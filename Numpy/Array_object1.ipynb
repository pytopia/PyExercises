{
 "cells": [
  {
   "cell_type": "code",
   "execution_count": null,
   "id": "09336ff0-cf2f-4c8f-b868-08f2c42c8065",
   "metadata": {
    "deletable": false,
    "editable": false,
    "nbgrader": {
     "cell_type": "code",
     "checksum": "630c52f214268982817e1e9484f223a6",
     "grade": false,
     "grade_id": "cell-f65aba33a824b48a",
     "locked": true,
     "schema_version": 3,
     "solution": false,
     "task": false
    }
   },
   "outputs": [],
   "source": [
    "# Import main module\n",
    "import numpy as np"
   ]
  },
  {
   "cell_type": "markdown",
   "id": "e703e909-7b2a-43ce-b6c6-6d2db6a76050",
   "metadata": {
    "deletable": false,
    "editable": false,
    "nbgrader": {
     "cell_type": "markdown",
     "checksum": "fc00eb7c07a411514fe519f33c7d3581",
     "grade": false,
     "grade_id": "cell-7c35ba12d19b189e",
     "locked": true,
     "schema_version": 3,
     "solution": false,
     "task": false
    }
   },
   "source": [
    "# Array objects\n",
    "\n",
    "## Fundemental Three object in numpy\n",
    "* ndarray\n",
    "* array scalar object\n",
    "* data-type object"
   ]
  },
  {
   "cell_type": "markdown",
   "id": "ef844b2e-61cd-4ee3-9e7e-a7c36329d6ec",
   "metadata": {
    "deletable": false,
    "editable": false,
    "nbgrader": {
     "cell_type": "markdown",
     "checksum": "143376ced228f6804010abf5fe401050",
     "grade": false,
     "grade_id": "cell-966baf0e8160a279",
     "locked": true,
     "schema_version": 3,
     "solution": false,
     "task": false
    }
   },
   "source": [
    "1.Store the type of object `a` in variable `a_type`:"
   ]
  },
  {
   "cell_type": "code",
   "execution_count": null,
   "id": "5f379735-5de5-4e9a-85a2-bcbd17c12a62",
   "metadata": {
    "deletable": false,
    "nbgrader": {
     "cell_type": "code",
     "checksum": "998f387e512f3fe83c535db3caed2247",
     "grade": false,
     "grade_id": "cell-ca289a6ccd208ac1",
     "locked": false,
     "schema_version": 3,
     "solution": true,
     "task": false
    }
   },
   "outputs": [],
   "source": [
    "# your code here\n",
    "a = np.array([1, 2, 3])\n",
    "a_type = ----"
   ]
  },
  {
   "cell_type": "code",
   "execution_count": null,
   "id": "084c1e14-6fb5-4d68-af36-cc67396c6da6",
   "metadata": {
    "deletable": false,
    "editable": false,
    "nbgrader": {
     "cell_type": "code",
     "checksum": "b9183a8881ce9f56c055e040d9e8266a",
     "grade": true,
     "grade_id": "cell-894973c161007bcb",
     "locked": true,
     "points": 1,
     "schema_version": 3,
     "solution": false,
     "task": false
    }
   },
   "outputs": [],
   "source": []
  },
  {
   "cell_type": "code",
   "execution_count": null,
   "id": "d3df7619-fa8e-4456-a857-ccb20aa0e95d",
   "metadata": {
    "deletable": false,
    "editable": false,
    "nbgrader": {
     "cell_type": "code",
     "checksum": "d9f02edb79e05c3aecf35e0e208b3fa7",
     "grade": true,
     "grade_id": "cell-837e4264b2b5a12b",
     "locked": true,
     "points": 0,
     "schema_version": 3,
     "solution": false,
     "task": false
    }
   },
   "outputs": [],
   "source": []
  },
  {
   "cell_type": "markdown",
   "id": "25dfb2b6-1e44-4899-b26a-72c5a60f7e30",
   "metadata": {
    "deletable": false,
    "editable": false,
    "nbgrader": {
     "cell_type": "markdown",
     "checksum": "22b430a19e3462df11c3a5f356e6da46",
     "grade": false,
     "grade_id": "cell-70d71eab7b24cade",
     "locked": true,
     "schema_version": 3,
     "solution": false,
     "task": false
    }
   },
   "source": [
    "2.Store the type of object `a[0]` in variable `a0_type`:"
   ]
  },
  {
   "cell_type": "code",
   "execution_count": null,
   "id": "40997de8-5cd0-421c-b45a-259482802539",
   "metadata": {
    "deletable": false,
    "nbgrader": {
     "cell_type": "code",
     "checksum": "ed2fb1bca0aeae3d0030a85a204e8cc3",
     "grade": false,
     "grade_id": "cell-2ee0860d38a9da64",
     "locked": false,
     "schema_version": 3,
     "solution": true,
     "task": false
    }
   },
   "outputs": [],
   "source": [
    "# your code here\n",
    "a0_type = ----"
   ]
  },
  {
   "cell_type": "code",
   "execution_count": null,
   "id": "6c080e2a-3dc2-4bf4-9295-380f1fd1a9a2",
   "metadata": {
    "deletable": false,
    "editable": false,
    "nbgrader": {
     "cell_type": "code",
     "checksum": "7dd6060c39565a2d8f98cb9715f4927a",
     "grade": true,
     "grade_id": "cell-dfdace9c25be8302",
     "locked": true,
     "points": 1,
     "schema_version": 3,
     "solution": false,
     "task": false
    }
   },
   "outputs": [],
   "source": []
  },
  {
   "cell_type": "code",
   "execution_count": null,
   "id": "c20d7df9-bf70-46d7-9997-e8a61a309eee",
   "metadata": {
    "deletable": false,
    "editable": false,
    "nbgrader": {
     "cell_type": "code",
     "checksum": "dd3b2c71093370216ebfcd26ed66220e",
     "grade": true,
     "grade_id": "cell-0740719e0f637e5e",
     "locked": true,
     "points": 0,
     "schema_version": 3,
     "solution": false,
     "task": false
    }
   },
   "outputs": [],
   "source": []
  },
  {
   "cell_type": "markdown",
   "id": "661153bf-689e-4134-bf09-217d335f9625",
   "metadata": {
    "deletable": false,
    "editable": false,
    "nbgrader": {
     "cell_type": "markdown",
     "checksum": "8e974595f6dae59a508f9bdf1f88cd0c",
     "grade": false,
     "grade_id": "cell-14df12e93396a401",
     "locked": true,
     "schema_version": 3,
     "solution": false,
     "task": false
    }
   },
   "source": [
    "3.Store the data type of object `a` in variable `a_data_type`:"
   ]
  },
  {
   "cell_type": "code",
   "execution_count": null,
   "id": "f0222fd0-a3b6-4529-a4c6-aedcd0a7a798",
   "metadata": {
    "deletable": false,
    "nbgrader": {
     "cell_type": "code",
     "checksum": "7e9c6b9af8b456fbc7facbb5e8deff79",
     "grade": false,
     "grade_id": "cell-9461b614de4aae6a",
     "locked": false,
     "schema_version": 3,
     "solution": true,
     "task": false
    }
   },
   "outputs": [],
   "source": [
    "# your code here\n",
    "a_data_type = ----"
   ]
  },
  {
   "cell_type": "code",
   "execution_count": null,
   "id": "f340bfea-3f52-442d-a43b-1ca5022eaf40",
   "metadata": {
    "deletable": false,
    "editable": false,
    "nbgrader": {
     "cell_type": "code",
     "checksum": "279beb4870079b1eb9568f1312f471d7",
     "grade": true,
     "grade_id": "cell-e7f5d38286161210",
     "locked": true,
     "points": 1,
     "schema_version": 3,
     "solution": false,
     "task": false
    }
   },
   "outputs": [],
   "source": []
  },
  {
   "cell_type": "code",
   "execution_count": null,
   "id": "73466bc0-f002-4794-9faf-8f52558a299e",
   "metadata": {
    "deletable": false,
    "editable": false,
    "nbgrader": {
     "cell_type": "code",
     "checksum": "bc9a09b53ecadb4bbfc26888781989da",
     "grade": true,
     "grade_id": "cell-1f70c8fbb8f1ee19",
     "locked": true,
     "points": 0,
     "schema_version": 3,
     "solution": false,
     "task": false
    }
   },
   "outputs": [],
   "source": []
  },
  {
   "cell_type": "markdown",
   "id": "cdd6f236-ce04-42c5-be6e-957ef88161e6",
   "metadata": {
    "deletable": false,
    "editable": false,
    "nbgrader": {
     "cell_type": "markdown",
     "checksum": "bf983e31c59a32d14367ad3380ab1f7f",
     "grade": false,
     "grade_id": "cell-6f6e821b7025b4a8",
     "locked": true,
     "schema_version": 3,
     "solution": false,
     "task": false
    }
   },
   "source": [
    "# The N-dimensional array"
   ]
  },
  {
   "cell_type": "markdown",
   "id": "6c2bd60c-d2e7-4f77-b7ef-806349860844",
   "metadata": {
    "deletable": false,
    "editable": false,
    "nbgrader": {
     "cell_type": "markdown",
     "checksum": "845c2a063393640587785467bec831f5",
     "grade": false,
     "grade_id": "cell-f6d9163b2720d601",
     "locked": true,
     "schema_version": 3,
     "solution": false,
     "task": false
    }
   },
   "source": [
    "|Type|Bytes|Range|\n",
    "|---|---|---|\n",
    "|**np.int8**|1|-128 to 127|\n",
    "|**np.int16**|2|-32768 to 32767|\n",
    "|**np.int32**|4|-2147483648 to 2147483647|\n",
    "|**np.int64**|8|-9223372036854775808 to 9223372036854775807|"
   ]
  },
  {
   "cell_type": "markdown",
   "id": "721d5822-6acc-45d6-8d69-ce21ccb9e907",
   "metadata": {
    "deletable": false,
    "editable": false,
    "nbgrader": {
     "cell_type": "markdown",
     "checksum": "78c3cb226a92b482e5cc868e5dc2048f",
     "grade": false,
     "grade_id": "cell-f6b9897dcd3e6839",
     "locked": true,
     "schema_version": 3,
     "solution": false,
     "task": false
    }
   },
   "source": [
    "4. Create a 2-dimensional array of size **3 x 4** named `x`, composed of **4-byte** integer elements:\n",
    "\n"
   ]
  },
  {
   "cell_type": "code",
   "execution_count": null,
   "id": "d8e5520c-a653-4f87-8645-4ed6121515fb",
   "metadata": {
    "deletable": false,
    "nbgrader": {
     "cell_type": "code",
     "checksum": "26025ae985283fb214b176e0790ce5d4",
     "grade": false,
     "grade_id": "cell-8ba8e1fcaae14e9c",
     "locked": false,
     "schema_version": 3,
     "solution": true,
     "task": false
    }
   },
   "outputs": [],
   "source": [
    "# your code here\n",
    "x = ----"
   ]
  },
  {
   "cell_type": "code",
   "execution_count": null,
   "id": "444fd1fa-0dd7-422e-b8bc-c2d91346709c",
   "metadata": {
    "deletable": false,
    "editable": false,
    "nbgrader": {
     "cell_type": "code",
     "checksum": "1616523786627a2c82679d24f4f49a60",
     "grade": true,
     "grade_id": "cell-514a73966cbef553",
     "locked": true,
     "points": 2,
     "schema_version": 3,
     "solution": false,
     "task": false
    }
   },
   "outputs": [],
   "source": []
  },
  {
   "cell_type": "code",
   "execution_count": null,
   "id": "b93226f6-3afc-4c88-a0b4-d0edafcfca1f",
   "metadata": {
    "deletable": false,
    "editable": false,
    "nbgrader": {
     "cell_type": "code",
     "checksum": "a16bc76c3d5b83f8b9ec6f284a4ddabb",
     "grade": true,
     "grade_id": "cell-0652b728c03a946a",
     "locked": true,
     "points": 0,
     "schema_version": 3,
     "solution": false,
     "task": false
    }
   },
   "outputs": [],
   "source": []
  },
  {
   "cell_type": "markdown",
   "id": "2042de08-a493-4d49-8c74-fc78113d9854",
   "metadata": {
    "deletable": false,
    "editable": false,
    "nbgrader": {
     "cell_type": "markdown",
     "checksum": "ffcddfbc39ae18463b6e90a2e1ddc8a3",
     "grade": false,
     "grade_id": "cell-8ea6a0d1d0d717ed",
     "locked": true,
     "schema_version": 3,
     "solution": false,
     "task": false
    }
   },
   "source": [
    "5. store the element of **x** in the **second row**, **forth column** in the variable `e`:"
   ]
  },
  {
   "cell_type": "code",
   "execution_count": null,
   "id": "8bbd9dcb-177b-4272-b082-28a212ee57d6",
   "metadata": {
    "deletable": false,
    "nbgrader": {
     "cell_type": "code",
     "checksum": "2b3438d19dc77a3aceb79f909ad2284d",
     "grade": false,
     "grade_id": "cell-aeaf3977746ff0a5",
     "locked": false,
     "schema_version": 3,
     "solution": true,
     "task": false
    }
   },
   "outputs": [],
   "source": [
    "# your code here\n",
    "e = ----"
   ]
  },
  {
   "cell_type": "code",
   "execution_count": null,
   "id": "ed5ced31-696b-49da-9d42-6ef5692f856c",
   "metadata": {
    "deletable": false,
    "editable": false,
    "nbgrader": {
     "cell_type": "code",
     "checksum": "10abdf7c142d5e412f6a855160fc5336",
     "grade": true,
     "grade_id": "cell-cff79236048ab0e3",
     "locked": true,
     "points": 1,
     "schema_version": 3,
     "solution": false,
     "task": false
    }
   },
   "outputs": [],
   "source": []
  },
  {
   "cell_type": "code",
   "execution_count": null,
   "id": "8d371868-9e58-4a15-9411-2feef9e50965",
   "metadata": {
    "deletable": false,
    "editable": false,
    "nbgrader": {
     "cell_type": "code",
     "checksum": "a1bad31d0e228c214990f9722f81717d",
     "grade": true,
     "grade_id": "cell-368787df677d0548",
     "locked": true,
     "points": 0,
     "schema_version": 3,
     "solution": false,
     "task": false
    }
   },
   "outputs": [],
   "source": []
  },
  {
   "cell_type": "markdown",
   "id": "f79212ec-db9a-4a98-b235-b28cc7f0f507",
   "metadata": {
    "deletable": false,
    "editable": false,
    "nbgrader": {
     "cell_type": "markdown",
     "checksum": "ef7743b3ba146e1b59be5fc70ca06a87",
     "grade": false,
     "grade_id": "cell-56a91922d316096b",
     "locked": true,
     "schema_version": 3,
     "solution": false,
     "task": false
    }
   },
   "source": [
    "Different ndarrays can share the same data, so that changes made in one ndarray may be visible in another. That is, an ndarray can be a **“view”** to another ndarray, and the data it is referring to is taken care of by the “base” ndarray. \n",
    "\n",
    "For example slicing can produce views of the array\n",
    "\n",
    "6. Create a slice of the array `x` and name it `y` so that it includes the **third** and **fourth** columns of all rows."
   ]
  },
  {
   "cell_type": "code",
   "execution_count": null,
   "id": "5a56214d-e8ca-4399-adcb-ccc20ac31329",
   "metadata": {
    "deletable": false,
    "nbgrader": {
     "cell_type": "code",
     "checksum": "e5c5bf7fa9d5539cb79ff69bd091351f",
     "grade": false,
     "grade_id": "cell-6cb97539e4162179",
     "locked": false,
     "schema_version": 3,
     "solution": true,
     "task": false
    }
   },
   "outputs": [],
   "source": [
    "# your code here\n",
    "y = ----"
   ]
  },
  {
   "cell_type": "code",
   "execution_count": null,
   "id": "9efce0d5-7d11-4112-8987-165e3529875a",
   "metadata": {
    "deletable": false,
    "editable": false,
    "nbgrader": {
     "cell_type": "code",
     "checksum": "6a74f84402c7814cbe3edd22f9566b68",
     "grade": true,
     "grade_id": "cell-c49441a6c3e6cabd",
     "locked": true,
     "points": 1,
     "schema_version": 3,
     "solution": false,
     "task": false
    }
   },
   "outputs": [],
   "source": []
  },
  {
   "cell_type": "markdown",
   "id": "af3eb3bc-2130-441f-acba-9086e32492b2",
   "metadata": {
    "deletable": false,
    "editable": false,
    "nbgrader": {
     "cell_type": "markdown",
     "checksum": "f3ac1a4b1bae38e0b93014c00d2b2cd2",
     "grade": false,
     "grade_id": "cell-e5ed9b546c561c3c",
     "locked": true,
     "schema_version": 3,
     "solution": false,
     "task": false
    }
   },
   "source": [
    "7.The element that is in the second row and the first column of ndarray `y` is equivalent to which element of ndarray `x`?\n",
    "$$X[n\\_row][n\\_col]$$"
   ]
  },
  {
   "cell_type": "code",
   "execution_count": null,
   "id": "6ef7c455-edcb-4f70-9a3a-34e092094cd9",
   "metadata": {
    "deletable": false,
    "nbgrader": {
     "cell_type": "code",
     "checksum": "e645c182f92dea7d55fa9f354688dc22",
     "grade": false,
     "grade_id": "cell-977d2c270dea6827",
     "locked": false,
     "schema_version": 3,
     "solution": true,
     "task": false
    }
   },
   "outputs": [],
   "source": [
    "# your code here\n",
    "n_row = ----\n",
    "n_col = ----"
   ]
  },
  {
   "cell_type": "code",
   "execution_count": null,
   "id": "99fdb376-0c82-4343-b546-1d616d234b83",
   "metadata": {
    "deletable": false,
    "editable": false,
    "nbgrader": {
     "cell_type": "code",
     "checksum": "fde57ab18ea9ac6f0862bba7cd924a32",
     "grade": true,
     "grade_id": "cell-617c45ae774efc66",
     "locked": true,
     "points": 1,
     "schema_version": 3,
     "solution": false,
     "task": false
    }
   },
   "outputs": [],
   "source": []
  },
  {
   "cell_type": "markdown",
   "id": "aec1583c-ba11-4b31-ba0c-8946a3e53588",
   "metadata": {
    "deletable": false,
    "editable": false,
    "nbgrader": {
     "cell_type": "markdown",
     "checksum": "d1f042c4132b772c9c4c44dbb8aefa9b",
     "grade": false,
     "grade_id": "cell-0d6f2a60be991859",
     "locked": true,
     "schema_version": 3,
     "solution": false,
     "task": false
    }
   },
   "source": [
    "8. If we change the element from the Y array, will the X array change? Put your answer as `True` or `False` in the `answer` variable."
   ]
  },
  {
   "cell_type": "code",
   "execution_count": null,
   "id": "33d3201e-09c6-4cd4-95e2-fbfed7ec0a90",
   "metadata": {
    "deletable": false,
    "nbgrader": {
     "cell_type": "code",
     "checksum": "afe5560b6c442eaefa673f4caee657f0",
     "grade": false,
     "grade_id": "cell-ec47ebc26b626f78",
     "locked": false,
     "schema_version": 3,
     "solution": true,
     "task": false
    }
   },
   "outputs": [],
   "source": [
    "# your code here\n",
    "answer = ----"
   ]
  },
  {
   "cell_type": "code",
   "execution_count": null,
   "id": "28a72027-71f5-4db8-b2ea-d7d3ab5e9a15",
   "metadata": {
    "deletable": false,
    "editable": false,
    "nbgrader": {
     "cell_type": "code",
     "checksum": "72f512d55be84f423da0cfc2f3c063ea",
     "grade": true,
     "grade_id": "cell-ae11bfcb58ecf04f",
     "locked": true,
     "points": 1,
     "schema_version": 3,
     "solution": false,
     "task": false
    }
   },
   "outputs": [],
   "source": []
  }
 ],
 "metadata": {
  "kernelspec": {
   "display_name": "Python 3 (ipykernel)",
   "language": "python",
   "name": "python3"
  },
  "language_info": {
   "codemirror_mode": {
    "name": "ipython",
    "version": 3
   },
   "file_extension": ".py",
   "mimetype": "text/x-python",
   "name": "python",
   "nbconvert_exporter": "python",
   "pygments_lexer": "ipython3",
   "version": "3.10.4"
  }
 },
 "nbformat": 4,
 "nbformat_minor": 5
}
