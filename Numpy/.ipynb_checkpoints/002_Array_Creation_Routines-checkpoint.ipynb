{
 "cells": [
  {
   "cell_type": "markdown",
   "id": "a241c092-4140-490c-b57b-10e78800eda0",
   "metadata": {},
   "source": [
    "# Array creation routines"
   ]
  },
  {
   "cell_type": "code",
   "execution_count": 1,
   "id": "fa6ad8c9-a63f-4f7b-b1b8-902cd40a9253",
   "metadata": {},
   "outputs": [],
   "source": [
    "# Import Main Module\n",
    "import numpy as np"
   ]
  },
  {
   "cell_type": "markdown",
   "id": "cb1e7392-e958-49a5-b0d5-f34d8b404dd4",
   "metadata": {},
   "source": [
    "## Converting Python sequences to NumPy Arrays"
   ]
  },
  {
   "cell_type": "markdown",
   "id": "b08058f9-e9fb-48d9-9d7a-1090d3d733a7",
   "metadata": {},
   "source": [
    "1. Create a list in Python and store it in the `python_list1` variable. Then create a one-dimensional ndarray using the `python_list1` variable and store it in the `ndarray_1d` variable."
   ]
  },
  {
   "cell_type": "code",
   "execution_count": 19,
   "id": "38ade8d4-bd8f-4af6-bca0-7a66a54f2cb8",
   "metadata": {},
   "outputs": [],
   "source": [
    "python_list1 = [\"a\", \"b\", \"c\"]\n",
    "ndarray_1d = np.array(python_list1)"
   ]
  },
  {
   "cell_type": "code",
   "execution_count": 23,
   "id": "5fd31f00-dc9e-4338-a0f7-8983dd8c00c1",
   "metadata": {},
   "outputs": [],
   "source": [
    "from typing import List\n",
    "assert isinstance(python_list1, List), f\"Type of python_list1 is not 'List' but it is a {type(python_list1)} object\""
   ]
  },
  {
   "cell_type": "code",
   "execution_count": 24,
   "id": "06dbb320-5ff5-4a82-aeed-6bc79d59bbeb",
   "metadata": {},
   "outputs": [],
   "source": [
    "assert ndarray_1d.shape == (len(python_list1),), f\"Your array is {ndarray_1d.shape}D and it's shape = {len(ndarray_1d.shape)} but it's soppused to be 1D with the shape = (n, )\""
   ]
  },
  {
   "cell_type": "markdown",
   "id": "5a3a8c69-9c89-4ce7-bd46-16edce4934fc",
   "metadata": {},
   "source": [
    "2. Create a nested list in Python and store it in the `python_list2` variable. Then create a two-dimensional ndarray using the `python_list2` variable and store it in the `ndarray_2d` variable."
   ]
  },
  {
   "cell_type": "code",
   "execution_count": 39,
   "id": "65e703f9-37ba-423b-80a9-b28f4bf77c7d",
   "metadata": {},
   "outputs": [],
   "source": [
    "python_list2 = [[1, 2, 3, 4],\n",
    "               [3, 4, 5, 5],\n",
    "               [4, 5, 6, 7]]\n",
    "ndarray_2d = np.array(python_list2)"
   ]
  },
  {
   "cell_type": "code",
   "execution_count": 40,
   "id": "67d799ad-dfdb-4f8a-aa6b-d73a0d898aad",
   "metadata": {},
   "outputs": [],
   "source": [
    "from typing import List\n",
    "assert isinstance(python_list2, List), f\"Type of python_list2 is not 'List' but it is a {type(python_list2)} object\""
   ]
  },
  {
   "cell_type": "code",
   "execution_count": 43,
   "id": "025751cb-2123-4e37-bd38-b22f04cab2f3",
   "metadata": {},
   "outputs": [],
   "source": [
    "assert ndarray_2d.shape == (len(python_list2),len(python_list2[0])), f\"Your array is {len(ndarray_2d.shape)}D and it's shape = {ndarray_2d.shape} but it's soppused to be 2D with the shape = (n, m)\""
   ]
  },
  {
   "cell_type": "markdown",
   "id": "b967cdc9-059a-4747-b656-cdaa5ba43388",
   "metadata": {},
   "source": [
    "3. Create a nested list in Python and store it in the `python_list3` variable. Then create a three-dimensional ndarray using the `python_list3` variable and store it in the `ndarray_3d` variable."
   ]
  },
  {
   "cell_type": "code",
   "execution_count": 48,
   "id": "b4ced2e8-26bb-4c2b-a787-95cde94464ec",
   "metadata": {},
   "outputs": [],
   "source": [
    "python_list3 = [[[1, 2],[3, 4]], [[5, 6],[7, 8]], [[9, 10], [11, 12]]]\n",
    "ndarray_3d = np.array(python_list3)"
   ]
  },
  {
   "cell_type": "code",
   "execution_count": 49,
   "id": "81c9541d-c8d1-4226-b0fe-1f0e0eefc793",
   "metadata": {},
   "outputs": [],
   "source": [
    "from typing import List\n",
    "assert isinstance(python_list3, List), f\"Type of python_list3 is not 'List' but it is a {type(python_list3)} object\""
   ]
  },
  {
   "cell_type": "code",
   "execution_count": 50,
   "id": "450e4612-b280-41a8-b369-8e2709ef9651",
   "metadata": {},
   "outputs": [],
   "source": [
    "assert ndarray_3d.shape == (len(python_list3), len(python_list3[0]), len(python_list3[0][0])), f\"Your array is {len(ndarray_3d.shape)}D and it's shape = {ndarray_3d.shape} but it's soppused to be 3D with the shape = (n, m, z)\""
   ]
  },
  {
   "cell_type": "markdown",
   "id": "42d32721-5da8-40ae-9d77-18457e2fc297",
   "metadata": {},
   "source": [
    "---"
   ]
  },
  {
   "cell_type": "markdown",
   "id": "d6b04ab5-f689-4a78-ba7e-7a19ab948b07",
   "metadata": {},
   "source": [
    "You should consider the dtype of the elements in the array, which can be specified explicitly. This feature gives you more control over the underlying data structures and how the elements are handled in C/C++ functions."
   ]
  },
  {
   "cell_type": "markdown",
   "id": "bffc0ae5-3a2a-4771-9b07-f697a71360a7",
   "metadata": {},
   "source": [
    "4. Create a 2-dimensional array of size **3 x 3** named **x**, composed of **1-byte** integer elements."
   ]
  },
  {
   "cell_type": "code",
   "execution_count": 55,
   "id": "4be82e9d-9079-4faf-99b0-1d6bdcf2484e",
   "metadata": {},
   "outputs": [
    {
     "data": {
      "text/plain": [
       "array([[1, 2, 3],\n",
       "       [4, 5, 6],\n",
       "       [7, 8, 9]], dtype=int8)"
      ]
     },
     "execution_count": 55,
     "metadata": {},
     "output_type": "execute_result"
    }
   ],
   "source": [
    "x = np.array([[1, 2, 3], [4, 5, 6], [7, 8, 9]], dtype=np.int8)\n",
    "x"
   ]
  },
  {
   "cell_type": "code",
   "execution_count": 56,
   "id": "a6ce38ce-030e-4c6e-a2d6-8c4d439b00de",
   "metadata": {},
   "outputs": [],
   "source": [
    "assert x.shape == (3, 3), f\"Shape of your array supposed to be 3 x 3 but shape of your array is {x.shape}\"\n",
    "assert x.dtype == np.int8, f\"Data Type of your array supposed to be int8 but it is: {x.dtype}\""
   ]
  },
  {
   "cell_type": "markdown",
   "id": "4f762d1a-dca9-40f3-8ad3-c19bfdb53688",
   "metadata": {},
   "source": [
    "---\n",
    "If you are not careful with dtype assignments, you can get unwanted overflow\n",
    "\n",
    "5.Determine whether the following sentences are ```True``` or ```False``` and set the corresponding variable in the code below equal to ```True``` or ```False```.\n",
    "\n",
    "* **question_5_1**:  Dtype `np.int8` is not suitable for creating an array that stores the multiplication table of one-digit numbers.\n",
    "* **question_5_2**:Datatype `np.uint8` is suitable for making an array that stores the temperature of the freezer.\n",
    "* **question_5_3**:The number $2^{8}-1$ can be stored in an array which its data type is `np.uint8`.\n",
    "* **question_5_4**:The output of this line of code \n",
    "```python\n",
    ">>> np.array([-1, 1, -2, 2, -3, 3], dtype=np.uint8)\n",
    "```\n",
    "is equal to:\n",
    "```python\n",
    "array([255,   1, 254,   2, 253,   3], dtype=uint8)\n",
    "```"
   ]
  },
  {
   "cell_type": "code",
   "execution_count": 72,
   "id": "466dd685-91ca-4683-a2a4-10c45fcb53e6",
   "metadata": {},
   "outputs": [],
   "source": [
    "question_5_1 = False\n",
    "question_5_2 = False\n",
    "question_5_3 = True\n",
    "question_5_4 = True"
   ]
  },
  {
   "cell_type": "code",
   "execution_count": 74,
   "id": "02783e55-81f3-4ad2-8784-2dfad93c0d64",
   "metadata": {},
   "outputs": [],
   "source": [
    "assert question_5_1 == False, \"The ansewr of question 5_1 is incorrect\""
   ]
  },
  {
   "cell_type": "code",
   "execution_count": 75,
   "id": "24afc318-eb8f-4acf-af91-d91b55bfe5b2",
   "metadata": {},
   "outputs": [],
   "source": [
    "assert question_5_2 == False, \"The ansewr of question 5_2 is incorrect\""
   ]
  },
  {
   "cell_type": "code",
   "execution_count": 76,
   "id": "ba4e32b3-d354-463a-bdf6-e1695b73358c",
   "metadata": {},
   "outputs": [],
   "source": [
    "assert question_5_3 == True, \"The ansewr of question 5_3 is incorrect\""
   ]
  },
  {
   "cell_type": "code",
   "execution_count": 77,
   "id": "3e6675ce-c0f0-406f-b6c2-1475f532ddfd",
   "metadata": {},
   "outputs": [],
   "source": [
    "assert question_5_4 == True, \"The ansewr of question 5_4 is incorrect\""
   ]
  },
  {
   "cell_type": "markdown",
   "id": "bd250d89-c4e2-4b54-8210-0d0fa755091a",
   "metadata": {},
   "source": [
    "---\n",
    "## Intrinsic NumPy array creation functions\n",
    "\n",
    "### 1D array creation functions"
   ]
  },
  {
   "cell_type": "markdown",
   "id": "3747806d-7330-412e-a918-86b7155e85d9",
   "metadata": {},
   "source": [
    "6.Create an array containing the numbers **0** to **999** and store it in variable `a1`."
   ]
  },
  {
   "cell_type": "code",
   "execution_count": 85,
   "id": "5da7c66e-7775-4a9a-af68-c0263a694846",
   "metadata": {},
   "outputs": [],
   "source": [
    "a1 = np.arange(1000)"
   ]
  },
  {
   "cell_type": "code",
   "execution_count": 90,
   "id": "2b90f197-bc84-4863-bcc5-31e0de3b6acf",
   "metadata": {},
   "outputs": [
    {
     "name": "stdout",
     "output_type": "stream",
     "text": [
      "Lenght of your array: 1000\n",
      "Min of your array 0\n",
      "Max of your array: 999\n"
     ]
    }
   ],
   "source": [
    "assert (a1==np.arange(1000)).all()\n",
    "print(\"Lenght of your array:\", len(a1))\n",
    "print(\"Min of your array\", a1.min())\n",
    "print(\"Max of your array:\", a1.max())"
   ]
  },
  {
   "cell_type": "markdown",
   "id": "2efefbf4-a18d-4c3a-8560-584beeaeeb7b",
   "metadata": {},
   "source": [
    "7.Create an array of dtype `float` containing the numbers -3 to 3 and store it in variable `a2`.\n",
    "\n",
    "(*The number **3** itself is not in the array*)"
   ]
  },
  {
   "cell_type": "code",
   "execution_count": 110,
   "id": "5e915a6c-a5bf-4d62-bb8e-7e3daa9b04c2",
   "metadata": {},
   "outputs": [],
   "source": [
    "a2 = np.arange(-3,3, dtype=float)"
   ]
  },
  {
   "cell_type": "code",
   "execution_count": 111,
   "id": "6e3556c8-abf4-48d1-9bc6-af390d513c56",
   "metadata": {},
   "outputs": [],
   "source": [
    "assert a2.dtype == float, f\"Your array type is eqaul to {a2.type} but it soppused to be float\"\n",
    "assert (a2 == np.arange(-3,3, dtype=float)).all()"
   ]
  },
  {
   "cell_type": "markdown",
   "id": "9d560c13-4e05-4864-97a0-d75015bc3374",
   "metadata": {},
   "source": [
    "8.Create an array that starts at **2** and goes up to **10** in steps of **0.1** and store it in variable `a3`.\n",
    "\n",
    "(*The number **10** itself is not in the array*)"
   ]
  },
  {
   "cell_type": "code",
   "execution_count": 125,
   "id": "f94b0398-6b28-409d-91d8-463555d5cbba",
   "metadata": {},
   "outputs": [],
   "source": [
    "a3 = np.arange(2, 10, 0.1)"
   ]
  },
  {
   "cell_type": "code",
   "execution_count": 126,
   "id": "5c23ec0d-6675-4002-8e59-347a1f48bc6a",
   "metadata": {},
   "outputs": [],
   "source": [
    "assert (a3 == np.arange(2, 10, 0.1) ).all()"
   ]
  },
  {
   "cell_type": "markdown",
   "id": "9ec05796-ef7a-4480-bae1-da8b1cdfe879",
   "metadata": {},
   "source": [
    "8.Create an array that starts at **-0.5** and goes up to **0.2** in steps of **0.1** and store it in variable `a4`.\n",
    "\n",
    "(*The number **0.2** itself is not in the array*)"
   ]
  },
  {
   "cell_type": "code",
   "execution_count": 127,
   "id": "c85371fb-22bc-4b0b-8091-23334aab9ce3",
   "metadata": {},
   "outputs": [],
   "source": [
    "a4 = np.arange(-0.5, 0.2, 0.1)"
   ]
  },
  {
   "cell_type": "code",
   "execution_count": 132,
   "id": "1d6ceb70-05d9-40a0-a589-33bb4258d429",
   "metadata": {},
   "outputs": [],
   "source": [
    "assert (a4 == np.arange(-0.5, 0.2, 0.1)).all()"
   ]
  },
  {
   "cell_type": "markdown",
   "id": "54bf2cda-1d77-4361-8f1d-edaaecfe8462",
   "metadata": {},
   "source": [
    "Regarding the above question, do you think that `a4` ndarray is exactly equal to this array `array([-0.5, -0.4, -0.3, -0.2,-0.1, 0,  0.1])`?"
   ]
  },
  {
   "cell_type": "markdown",
   "id": "04be14a6-730d-4c1a-8017-93d294a1ef90",
   "metadata": {},
   "source": [
    "9.Create an array containing **7 elements** between the numbers **1** to **121** in such a way that the numbers 1 and 121 are part of this array and the distance between the numbers should be equal. store the array in `a5` variable"
   ]
  },
  {
   "cell_type": "code",
   "execution_count": 134,
   "id": "cf446980-4c7d-4739-9950-7b5f0ce91049",
   "metadata": {},
   "outputs": [],
   "source": [
    "a5 = np.linspace(1, 121, 7)"
   ]
  },
  {
   "cell_type": "code",
   "execution_count": 135,
   "id": "b50596af-f71c-408a-8389-7dab79836ed1",
   "metadata": {},
   "outputs": [],
   "source": [
    "assert (a5 == np.linspace(1, 121, 7)).all()"
   ]
  },
  {
   "cell_type": "markdown",
   "id": "528b7d91-4974-4876-a12c-44fe413a61b1",
   "metadata": {},
   "source": [
    "10.Create an array containing **16** elements between the numbers **-3** to **3** in such a way that the numbers -3 and 3 are part of this array and the distance between the numbers should be equal. store the array in ``a6`` variable"
   ]
  },
  {
   "cell_type": "code",
   "execution_count": 139,
   "id": "21680618-e957-496b-b4fa-831340f3f75b",
   "metadata": {},
   "outputs": [],
   "source": [
    "a6 = np.linspace(-3, 3, 16)"
   ]
  },
  {
   "cell_type": "code",
   "execution_count": 140,
   "id": "51ac09b2-22f5-4572-89d3-a2dd20956dc8",
   "metadata": {},
   "outputs": [],
   "source": [
    "assert (a6 == np.linspace(-3, 3, 16)).all()"
   ]
  },
  {
   "cell_type": "markdown",
   "id": "ac3a352e-1ea9-4ca1-a63a-396f33f57f5d",
   "metadata": {},
   "source": [
    "### 2D array creation functions"
   ]
  },
  {
   "cell_type": "markdown",
   "id": "440dbedc-0beb-4d95-9200-e68e4f0d022a",
   "metadata": {},
   "source": [
    "11.Create an **4×4** array that its **main diameter** is equal to **1** and other elements are equal to **zero** and store this variable in `a7` variable"
   ]
  },
  {
   "cell_type": "code",
   "execution_count": 196,
   "id": "076872b6-3000-4075-8efa-4c2f14085bb4",
   "metadata": {},
   "outputs": [],
   "source": [
    "a7 = np.eye(4, 4)"
   ]
  },
  {
   "cell_type": "code",
   "execution_count": 201,
   "id": "0c15faea-a045-46ca-bb8a-0be9aa22747e",
   "metadata": {},
   "outputs": [],
   "source": [
    "assert (a7 == np.eye(4, 4)).all()"
   ]
  },
  {
   "cell_type": "markdown",
   "id": "a9aeecec-c186-40f2-859b-3c6445f07371",
   "metadata": {},
   "source": [
    "12.Create an **5×5** array that its second diameter above the **main diameter** is equal to **1** and other elements are equal to **zero** and store this variable in `a8` variable"
   ]
  },
  {
   "cell_type": "code",
   "execution_count": 202,
   "id": "406214a9-84f6-497f-8951-d85ca253b704",
   "metadata": {},
   "outputs": [],
   "source": [
    "a8 = np.eye(5, 5, 2)"
   ]
  },
  {
   "cell_type": "code",
   "execution_count": 203,
   "id": "35f703e0-9e40-4430-a393-8f2f59103271",
   "metadata": {},
   "outputs": [],
   "source": [
    "assert (a8 == np.eye(5, 5, 2)).all()"
   ]
  },
  {
   "cell_type": "markdown",
   "id": "692f50b6-c431-479f-b8e2-d9e360a9fb8c",
   "metadata": {},
   "source": [
    "13.Create a **7×7** array that it's **main diameter** contains the numbers from **1** to **121** with equal distance and other elements are equal to **zero**  then store it in the `a9` variable."
   ]
  },
  {
   "cell_type": "code",
   "execution_count": 204,
   "id": "4333912c-35c1-41ad-a81f-b4b915c20430",
   "metadata": {},
   "outputs": [],
   "source": [
    "a9 = np.diag(np.linspace(1,121,7))"
   ]
  },
  {
   "cell_type": "code",
   "execution_count": 205,
   "id": "a6afda07-62ab-40e6-ab28-a196790f7bb2",
   "metadata": {},
   "outputs": [],
   "source": [
    "assert (a9 == np.diag(np.linspace(1,121,7))).all()"
   ]
  },
  {
   "cell_type": "markdown",
   "id": "e6a90e03-61d9-45e3-ac3d-edbaa9a640cc",
   "metadata": {},
   "source": [
    "14. A **5×5** array is stored in a variable named **z**, store the value of the **second** diameter **lower** than the main diameter in a variable called `a10`."
   ]
  },
  {
   "cell_type": "code",
   "execution_count": 206,
   "id": "769d7622-ecd2-4a8a-a7bc-0e1fba790f92",
   "metadata": {},
   "outputs": [],
   "source": [
    "z = np.arange(25).reshape(5, 5)\n",
    "a10 = np.diag(z, -2)"
   ]
  },
  {
   "cell_type": "code",
   "execution_count": 207,
   "id": "95abc225-84cd-40b9-8d67-2475f5c8aac5",
   "metadata": {},
   "outputs": [],
   "source": [
    "assert (a10 == np.diag(z, -2)).all()"
   ]
  },
  {
   "cell_type": "markdown",
   "id": "42fd1034-73b9-4371-8221-3ace145b214b",
   "metadata": {},
   "source": [
    "### General ndarray creation functions"
   ]
  },
  {
   "cell_type": "markdown",
   "id": "cd33f8cd-c506-425d-a315-f3b94fbeecfa",
   "metadata": {},
   "source": [
    "15.Create a **6x4** array with all **zero** elements and store it in variable `a11`."
   ]
  },
  {
   "cell_type": "code",
   "execution_count": 159,
   "id": "abf234c1-3f1d-4df3-868d-77dd1c2e7a17",
   "metadata": {},
   "outputs": [],
   "source": [
    "a11 = np.zeros((6, 4))"
   ]
  },
  {
   "cell_type": "code",
   "execution_count": 208,
   "id": "8bb00f0e-001c-4f86-99c2-f11dfdccb3d9",
   "metadata": {},
   "outputs": [],
   "source": [
    "assert (a11 == np.zeros((6, 4))).all()"
   ]
  },
  {
   "cell_type": "code",
   "execution_count": null,
   "id": "9910ea61-ea23-445d-a64c-47777801c7ea",
   "metadata": {},
   "outputs": [],
   "source": []
  },
  {
   "cell_type": "code",
   "execution_count": null,
   "id": "e385d1c5-6ab0-479b-97c4-96df87ee207f",
   "metadata": {},
   "outputs": [],
   "source": []
  },
  {
   "cell_type": "markdown",
   "id": "831e3f59-4bae-4066-bf17-eeaeb281201f",
   "metadata": {},
   "source": [
    "16.Create a **6x4** array with all **one** elements and store it in variable `a12`."
   ]
  },
  {
   "cell_type": "code",
   "execution_count": 161,
   "id": "68272300-51f9-49b2-bb9d-0939bbdc3f8d",
   "metadata": {},
   "outputs": [
    {
     "data": {
      "text/plain": [
       "array([[1., 1., 1., 1.],\n",
       "       [1., 1., 1., 1.],\n",
       "       [1., 1., 1., 1.],\n",
       "       [1., 1., 1., 1.],\n",
       "       [1., 1., 1., 1.],\n",
       "       [1., 1., 1., 1.]])"
      ]
     },
     "execution_count": 161,
     "metadata": {},
     "output_type": "execute_result"
    }
   ],
   "source": [
    "a12 = np.ones((6,4))\n",
    "a12"
   ]
  },
  {
   "cell_type": "code",
   "execution_count": 209,
   "id": "f684385c-3c87-488b-bd4b-3ba32bce1434",
   "metadata": {},
   "outputs": [],
   "source": [
    "assert (a12 == np.ones((6,4))).all()"
   ]
  },
  {
   "cell_type": "code",
   "execution_count": null,
   "id": "19766477-7ec1-4f19-a4c9-7f4e756067e3",
   "metadata": {},
   "outputs": [],
   "source": []
  },
  {
   "cell_type": "markdown",
   "id": "62b39c67-6a93-45b1-be0b-f348377bb898",
   "metadata": {},
   "source": [
    "17.Create a **6x4** array with all **random** elements and store it in variable `a13`.\n",
    "\n",
    "(**Hint**: use \n",
    "\n",
    "```python\n",
    "numpy.random.default_rng(seed=None).random(shape=(m, n))\n",
    "``` \n",
    "and set **seed equal to 32**)"
   ]
  },
  {
   "cell_type": "code",
   "execution_count": 213,
   "id": "3049943d-60b9-46d5-995d-c86a9a3cba49",
   "metadata": {},
   "outputs": [
    {
     "data": {
      "text/plain": [
       "array([[0.16024283, 0.5722295 , 0.37713555, 0.32293518],\n",
       "       [0.68661389, 0.97223203, 0.96683025, 0.67129842],\n",
       "       [0.83010157, 0.45971184, 0.31707756, 0.54255623],\n",
       "       [0.60122338, 0.91302719, 0.40845736, 0.55091596],\n",
       "       [0.4104853 , 0.15238988, 0.04054205, 0.23318279],\n",
       "       [0.60778421, 0.90482775, 0.00868426, 0.45920704]])"
      ]
     },
     "execution_count": 213,
     "metadata": {},
     "output_type": "execute_result"
    }
   ],
   "source": [
    "a13 = np.random.default_rng(seed=32).random((6,4))\n",
    "a13"
   ]
  },
  {
   "cell_type": "code",
   "execution_count": 214,
   "id": "466dc69e-74f2-41d5-9d7b-902038bf3579",
   "metadata": {},
   "outputs": [],
   "source": [
    "assert (a13 == np.random.default_rng(seed=32).random((6,4))).all()"
   ]
  },
  {
   "cell_type": "markdown",
   "id": "b85d16e1-5660-4245-afdd-6dfb50146444",
   "metadata": {},
   "source": [
    "18.Create a **6x4** array with empty elements and store it in variable `a14`.\n",
    "\n",
    "**Hint**: use \n",
    "\n",
    "```python\n",
    "numpy.empty(shape=(m, n))\n",
    "``` \n"
   ]
  },
  {
   "cell_type": "code",
   "execution_count": 215,
   "id": "a2a7e44e-966f-4423-bb55-535a49268337",
   "metadata": {},
   "outputs": [
    {
     "data": {
      "text/plain": [
       "array([[0.16024283, 0.5722295 , 0.37713555, 0.32293518],\n",
       "       [0.68661389, 0.97223203, 0.96683025, 0.67129842],\n",
       "       [0.83010157, 0.45971184, 0.31707756, 0.54255623],\n",
       "       [0.60122338, 0.91302719, 0.40845736, 0.55091596],\n",
       "       [0.4104853 , 0.15238988, 0.04054205, 0.23318279],\n",
       "       [0.60778421, 0.90482775, 0.00868426, 0.45920704]])"
      ]
     },
     "execution_count": 215,
     "metadata": {},
     "output_type": "execute_result"
    }
   ],
   "source": [
    "a14 = np.empty(shape=(6, 4))\n",
    "a14"
   ]
  },
  {
   "cell_type": "code",
   "execution_count": 216,
   "id": "efd94a95-8ffd-4908-a37b-56a8a458d305",
   "metadata": {},
   "outputs": [],
   "source": [
    "assert (a14 == np.empty(shape=(6, 4))).all()"
   ]
  },
  {
   "cell_type": "markdown",
   "id": "b4a53a25-fb6c-4427-995b-a5905952f43e",
   "metadata": {},
   "source": [
    "Can you explain what is the difference between `a13` and `a14` array?"
   ]
  },
  {
   "cell_type": "markdown",
   "id": "f5da50b7-8d0f-4556-9b4a-98e6b8722cee",
   "metadata": {},
   "source": [
    "19.Create a **8x3** array with all its elements equal to the `\"Pytopia\"` and then store it in the `a15` variable."
   ]
  },
  {
   "cell_type": "code",
   "execution_count": 186,
   "id": "ee80388e-1bd9-45d5-ad89-839d581137ad",
   "metadata": {},
   "outputs": [
    {
     "data": {
      "text/plain": [
       "array([['Pytopia', 'Pytopia', 'Pytopia'],\n",
       "       ['Pytopia', 'Pytopia', 'Pytopia'],\n",
       "       ['Pytopia', 'Pytopia', 'Pytopia'],\n",
       "       ['Pytopia', 'Pytopia', 'Pytopia'],\n",
       "       ['Pytopia', 'Pytopia', 'Pytopia'],\n",
       "       ['Pytopia', 'Pytopia', 'Pytopia'],\n",
       "       ['Pytopia', 'Pytopia', 'Pytopia'],\n",
       "       ['Pytopia', 'Pytopia', 'Pytopia']], dtype='<U7')"
      ]
     },
     "execution_count": 186,
     "metadata": {},
     "output_type": "execute_result"
    }
   ],
   "source": [
    "a15 = np.full((8, 3), \"Pytopia\")\n",
    "a15"
   ]
  },
  {
   "cell_type": "code",
   "execution_count": 217,
   "id": "5d278343-e7f1-44fa-867f-9d19fc207a27",
   "metadata": {},
   "outputs": [],
   "source": [
    "assert (a15 == np.full((8, 3), \"Pytopia\")).all()"
   ]
  },
  {
   "cell_type": "markdown",
   "id": "ca3f3344-d763-4336-88e2-a3d0725e85be",
   "metadata": {},
   "source": [
    "20.Using numpy with one line of code, create an array similar to the one below and store it in the `a16` variable.\n",
    "```python\n",
    "array([[-inf,  nan,  inf],\n",
    "       [-inf,  nan,  inf],\n",
    "       [-inf,  nan,  inf],\n",
    "       [-inf,  nan,  inf],\n",
    "       [-inf,  nan,  inf],\n",
    "       [-inf,  nan,  inf]])\n",
    "```"
   ]
  },
  {
   "cell_type": "code",
   "execution_count": 221,
   "id": "fb132519-6f28-43c0-9b09-ea27354223fb",
   "metadata": {},
   "outputs": [
    {
     "data": {
      "text/plain": [
       "array([[-inf,  nan,  inf],\n",
       "       [-inf,  nan,  inf],\n",
       "       [-inf,  nan,  inf],\n",
       "       [-inf,  nan,  inf],\n",
       "       [-inf,  nan,  inf],\n",
       "       [-inf,  nan,  inf]])"
      ]
     },
     "execution_count": 221,
     "metadata": {},
     "output_type": "execute_result"
    }
   ],
   "source": [
    "a16 = np.full((6,3), [-np.inf, np.nan, np.inf])\n",
    "a16"
   ]
  },
  {
   "cell_type": "code",
   "execution_count": null,
   "id": "2a97f57e-398f-4c03-ba19-6c6e2395cfe0",
   "metadata": {},
   "outputs": [],
   "source": []
  }
 ],
 "metadata": {
  "kernelspec": {
   "display_name": "Python 3 (ipykernel)",
   "language": "python",
   "name": "python3"
  },
  "language_info": {
   "codemirror_mode": {
    "name": "ipython",
    "version": 3
   },
   "file_extension": ".py",
   "mimetype": "text/x-python",
   "name": "python",
   "nbconvert_exporter": "python",
   "pygments_lexer": "ipython3",
   "version": "3.10.4"
  }
 },
 "nbformat": 4,
 "nbformat_minor": 5
}
