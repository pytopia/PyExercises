{
 "cells": [
  {
   "cell_type": "markdown",
   "id": "4554d1e5-5b92-438f-b8f8-123e0c6049d4",
   "metadata": {},
   "source": [
    "# Indexing on ndarrays"
   ]
  },
  {
   "cell_type": "code",
   "execution_count": 1,
   "id": "3ab9a1e2-2f68-4907-bfee-0904eafc86e0",
   "metadata": {},
   "outputs": [],
   "source": [
    "# Import Main Module\n",
    "import numpy as np"
   ]
  },
  {
   "cell_type": "markdown",
   "id": "0c627176-3ed7-465f-9e7a-24c7a440eb82",
   "metadata": {},
   "source": [
    "## Basic indexing"
   ]
  },
  {
   "cell_type": "markdown",
   "id": "81f2fb5e-1753-4d61-904a-034def5e42e5",
   "metadata": {},
   "source": [
    "1.Store the 21st member of the `a_1` ndarray in a variable named `x_1`."
   ]
  },
  {
   "cell_type": "code",
   "execution_count": 12,
   "id": "f29cdb53-cff1-4021-8f5f-8b8483f284f2",
   "metadata": {},
   "outputs": [
    {
     "data": {
      "text/plain": [
       "62.857142857142854"
      ]
     },
     "execution_count": 12,
     "metadata": {},
     "output_type": "execute_result"
    }
   ],
   "source": [
    "### BEGIN SOLUTION\n",
    "### END SOLUTION\n",
    "a_1 = np.linspace(0, 154, 50)\n",
    "x_1 = a_1[20]\n",
    "x_1"
   ]
  },
  {
   "cell_type": "code",
   "execution_count": 13,
   "id": "439336bf-f130-448d-ab3b-c7bc0efb36b0",
   "metadata": {},
   "outputs": [],
   "source": [
    "### BEGIN HIDDEN TESTS\n",
    "assert (x_1 - a_1[20]) < 0.000001, f\"The 21st term is equal to {a_1[20]} while you have chosen {x_1}\"\n",
    "### END HIDDEN TESTS"
   ]
  },
  {
   "cell_type": "markdown",
   "id": "07f574f1-3347-47d8-9453-7ddaa4db2ab8",
   "metadata": {},
   "source": [
    "2.Change the shape of the `a_2` array so that the `a_2[1][2]` element is equal to zero."
   ]
  },
  {
   "cell_type": "code",
   "execution_count": 31,
   "id": "2cb9d03f-b36f-49cd-9362-fedde368b5df",
   "metadata": {},
   "outputs": [
    {
     "data": {
      "text/plain": [
       "0.0"
      ]
     },
     "execution_count": 31,
     "metadata": {},
     "output_type": "execute_result"
    }
   ],
   "source": [
    "### BEGIN SOLUTION\n",
    "### END SOLUTION\n",
    "a_2 = np.arange(-2.5,2,0.5, dtype=np.float64)\n",
    "a_2.shape = (3, 3)\n",
    "a_2[1][2]"
   ]
  },
  {
   "cell_type": "code",
   "execution_count": 33,
   "id": "e7916874-a21a-487c-9771-0ddd0d1f3bb7",
   "metadata": {},
   "outputs": [],
   "source": [
    "### BEGIN HIDDEN TESTS\n",
    "assert a_2.shape == (3, 3), \"The shape of the array should be 3×3\"\n",
    "assert a_2[1][2] == 0, \"a_2[1][2] is not equal to Zero\"\n",
    "### END HIDDEN TESTS"
   ]
  },
  {
   "cell_type": "markdown",
   "id": "513d538d-5782-433a-9d20-4bdd006b7442",
   "metadata": {},
   "source": [
    "3.Is the following sentence `True` or `False`?\n",
    "```bash\n",
    "x[0][2] is more efficient than  x[0, 2]\n",
    "```"
   ]
  },
  {
   "cell_type": "code",
   "execution_count": 34,
   "id": "c8f05509-1b8c-4ecd-9a14-ce09fd88faed",
   "metadata": {},
   "outputs": [],
   "source": [
    "### BEGIN SOLUTION\n",
    "### END SOLUTION\n",
    "answer = False"
   ]
  },
  {
   "cell_type": "code",
   "execution_count": 35,
   "id": "82ea3ec9-9396-4813-9a08-67616ba6b7cb",
   "metadata": {},
   "outputs": [
    {
     "name": "stdout",
     "output_type": "stream",
     "text": [
      "So note that x[0, 2] == x[0][2] though the second case\n",
      "is more inefficient as a new temporary array is created after the\n",
      "first index that is subsequently indexed by 2.\n",
      "\n"
     ]
    }
   ],
   "source": [
    "### BEGIN HIDDEN TESTS\n",
    "text = \"\"\"So note that x[0, 2] == x[0][2] though the second case\n",
    "is more inefficient as a new temporary array is created after the\n",
    "first index that is subsequently indexed by 2.\n",
    "\"\"\"\n",
    "print(text)\n",
    "assert answer == False\n",
    "### END HIDDEN TESTS"
   ]
  },
  {
   "cell_type": "markdown",
   "id": "597c320e-e8d1-470c-a66a-482fdb477826",
   "metadata": {},
   "source": [
    "4.If we want to work with a small portion  of a very large array and not do anything with the rest of it, do you think it is better to create a view of that part or copy that part?"
   ]
  },
  {
   "cell_type": "code",
   "execution_count": 37,
   "id": "e68d0bc8-0ab4-4db7-a906-2cda45fa35d5",
   "metadata": {},
   "outputs": [],
   "source": [
    "### BEGIN SOLUTION\n",
    "### END SOLUTION\n",
    "answer_4 = \"\"\"\n",
    "Write your answer in here\n",
    "\"\"\""
   ]
  },
  {
   "cell_type": "code",
   "execution_count": 36,
   "id": "fab39c15-74d5-4660-aee3-07963c9d6819",
   "metadata": {},
   "outputs": [
    {
     "name": "stdout",
     "output_type": "stream",
     "text": [
      "\n",
      "NumPy slicing creates a view instead of a copy as in the case of built-in\n",
      "Python sequences such as string, tuple and list. Care must be taken when\n",
      "extracting a small portion from a large array which becomes useless after\n",
      "the extraction, because the small portion extracted contains a reference to\n",
      "the large original array whose memory will not be released until all arrays\n",
      "derived from it are garbage-collected. In such cases an explicit copy()\n",
      "is recommended.\n",
      "\n"
     ]
    }
   ],
   "source": [
    "### BEGIN HIDDEN TESTS\n",
    "text = \"\"\"\n",
    "NumPy slicing creates a view instead of a copy as in the case of built-in\n",
    "Python sequences such as string, tuple and list. Care must be taken when\n",
    "extracting a small portion from a large array which becomes useless after\n",
    "the extraction, because the small portion extracted contains a reference to\n",
    "the large original array whose memory will not be released until all arrays\n",
    "derived from it are garbage-collected. In such cases an explicit copy()\n",
    "is recommended.\n",
    "\"\"\"\n",
    "print(text)\n",
    "### END HIDDEN TESTS"
   ]
  },
  {
   "cell_type": "markdown",
   "id": "1213c7f2-913d-44fa-aa1b-46a16b5a586b",
   "metadata": {},
   "source": [
    "5.Define the variables `start`, `stop`, and `step` so that the output of the following code is equal to \n",
    "\n",
    "```python\n",
    "array([ 1,  5,  9, 13, 17, 21, 25])\n",
    "```\n",
    "Finally, store the answer in the `result` variable."
   ]
  },
  {
   "cell_type": "code",
   "execution_count": 48,
   "id": "513ddf0d-19c8-4d7a-9dba-3f62042819ac",
   "metadata": {},
   "outputs": [
    {
     "data": {
      "text/plain": [
       "array([ 1,  5,  9, 13, 17, 21, 25])"
      ]
     },
     "execution_count": 48,
     "metadata": {},
     "output_type": "execute_result"
    }
   ],
   "source": [
    "### BEGIN SOLUTION\n",
    "### END SOLUTION\n",
    "a_5 = np.arange(0, 30, 1)\n",
    "start = 1\n",
    "stop = 29\n",
    "step = 4\n",
    "my_slice  = slice(start, stop, step)\n",
    "result = a_5[my_slice]\n",
    "result"
   ]
  },
  {
   "cell_type": "code",
   "execution_count": 51,
   "id": "e103e1cf-1a97-4ae3-88e1-b74b1e7ae7f4",
   "metadata": {},
   "outputs": [],
   "source": [
    "### BEGIN HIDDEN TESTS\n",
    "assert (result == np.array([ 1,  5,  9, 13, 17, 21, 25])).all()\n",
    "### END HIDDEN TESTS"
   ]
  },
  {
   "cell_type": "markdown",
   "id": "764aa2a8-73fc-40d8-8bc4-a55801d3de0b",
   "metadata": {},
   "source": [
    "6.Is the following sentence `True` or `False`?\n",
    "```\n",
    "x[exp1, exp2, ..., expN] \n",
    "is syntactic sugar for \n",
    "x[(exp1, exp2, ..., expN)] \n",
    "in python\n",
    "```"
   ]
  },
  {
   "cell_type": "code",
   "execution_count": 53,
   "id": "185adac0-4019-465f-9dd3-f4fa7d17dd99",
   "metadata": {},
   "outputs": [],
   "source": [
    "### BEGIN SOLUTION\n",
    "### END SOLUTION\n",
    "answer_6 = True"
   ]
  },
  {
   "cell_type": "code",
   "execution_count": 54,
   "id": "2cd6ad75-52bb-4107-be7d-1de01aefae6b",
   "metadata": {},
   "outputs": [
    {
     "name": "stdout",
     "output_type": "stream",
     "text": [
      "\n",
      "Note that in Python, x[(exp1, exp2, ..., expN)] is equivalent to \n",
      "x[exp1, exp2, ..., expN]; the latter is just syntactic sugar for the former.\n",
      "\n"
     ]
    }
   ],
   "source": [
    "### BEGIN HIDDEN TESTS\n",
    "text = \"\"\"\n",
    "Note that in Python, x[(exp1, exp2, ..., expN)] is equivalent to \n",
    "x[exp1, exp2, ..., expN]; the latter is just syntactic sugar for the former.\n",
    "\"\"\"\n",
    "print(text)\n",
    "assert answer_6 == True\n",
    "### END HIDDEN TESTS"
   ]
  },
  {
   "cell_type": "markdown",
   "id": "e9489c4b-6f20-4e46-b165-29ba72dc8ca4",
   "metadata": {},
   "source": [
    "### Dimensional indexing tools"
   ]
  },
  {
   "cell_type": "markdown",
   "id": "ff6b457f-0eb3-458b-a6d9-ba6e39c60175",
   "metadata": {},
   "source": [
    "7.Suppose we have stored an array containing the numbers 1 to 6 in a variable named `a_7`. This is a one-dimensional array. Add another dimension to it using the `np.newaxis`  so that the resulting two-dimensional array is similar to the array below:\n",
    "```python\n",
    "array([[1],\n",
    "       [2],\n",
    "       [3],\n",
    "       [4],\n",
    "       [5],\n",
    "       [6]])\n",
    "```\n",
    "Then store the resulting two-dimensional array in the `x_7` variable."
   ]
  },
  {
   "cell_type": "code",
   "execution_count": 111,
   "id": "693d14ca-f92c-4b16-845e-a2d68656171c",
   "metadata": {},
   "outputs": [
    {
     "data": {
      "text/plain": [
       "array([[1],\n",
       "       [2],\n",
       "       [3],\n",
       "       [4]])"
      ]
     },
     "execution_count": 111,
     "metadata": {},
     "output_type": "execute_result"
    }
   ],
   "source": [
    "### BEGIN SOLUTION\n",
    "### END SOLUTION\n",
    "a_7 = np.array([1, 2, 3, 4, 5, 6])\n",
    "x_7 = a[:, np.newaxis]\n",
    "x_7"
   ]
  },
  {
   "cell_type": "code",
   "execution_count": 75,
   "id": "80be1c89-4625-48de-9c52-e9ea3c3a4baf",
   "metadata": {},
   "outputs": [],
   "source": [
    "### BEGIN HIDDEN TESTS\n",
    "assert (x_7 == a_7[:, np.newaxis]).all()\n",
    "### END HIDDEN TESTS"
   ]
  },
  {
   "cell_type": "markdown",
   "id": "3a045777-761a-48d2-b1d2-3c424dd88eba",
   "metadata": {},
   "source": [
    "8.Suppose we have stored an array containing the numbers 1 to 6 in a variable named `a_8`. This is a one-dimensional array. Add another dimension to it using the `np.newaxis`  so that the resulting two-dimensional array is similar to the array below:\n",
    "```python\n",
    "array([[1, 2, 3, 4, 5, 6]])\n",
    "```\n",
    "Then store the resulting two-dimensional array in the `x_8` variable."
   ]
  },
  {
   "cell_type": "code",
   "execution_count": 78,
   "id": "39495ab1-4c26-4af6-b78d-598cf9df4745",
   "metadata": {},
   "outputs": [
    {
     "data": {
      "text/plain": [
       "array([[1, 2, 3, 4, 5, 6]])"
      ]
     },
     "execution_count": 78,
     "metadata": {},
     "output_type": "execute_result"
    }
   ],
   "source": [
    "### BEGIN SOLUTION\n",
    "### END SOLUTION\n",
    "a_8 = np.array([1, 2, 3, 4, 5, 6])\n",
    "x_8 = a[np.newaxis,:]\n",
    "x_8"
   ]
  },
  {
   "cell_type": "code",
   "execution_count": 79,
   "id": "967401a6-b3b2-4893-81ad-a628998d9875",
   "metadata": {},
   "outputs": [],
   "source": [
    "### BEGIN HIDDEN TESTS\n",
    "assert (x_8 == a_8[np.newaxis, :]).all()\n",
    "### END HIDDEN TESTS"
   ]
  },
  {
   "cell_type": "markdown",
   "id": "33544346-1be6-49ac-a380-eb99be3c805c",
   "metadata": {},
   "source": [
    "9.Suppose we have stored a 2D-array(**3×3**) containing the numbers 1 to 9 in a variable named `a_9`. Add another dimension to it using the `np.newaxis` so that the resulting three-dimensional array shape is equal to (**3×1×3**)\n",
    "Then store the resulting array in the x_9 variable."
   ]
  },
  {
   "cell_type": "code",
   "execution_count": 82,
   "id": "3f78d500-e617-4305-84e6-a2a5a86c049d",
   "metadata": {},
   "outputs": [
    {
     "data": {
      "text/plain": [
       "array([[[1, 2, 3]],\n",
       "\n",
       "       [[4, 5, 6]],\n",
       "\n",
       "       [[7, 8, 9]]])"
      ]
     },
     "execution_count": 82,
     "metadata": {},
     "output_type": "execute_result"
    }
   ],
   "source": [
    "### BEGIN SOLUTION\n",
    "### END SOLUTION\n",
    "a_9 = np.arange(1, 10).reshape(3, 3)\n",
    "x_9 = a_9[:, np.newaxis, :]\n",
    "x_9"
   ]
  },
  {
   "cell_type": "code",
   "execution_count": 83,
   "id": "969735c3-de89-4ad2-a1c5-4897871f0bb9",
   "metadata": {},
   "outputs": [],
   "source": [
    "### BEGIN HIDDEN TESTS\n",
    "assert (x_9 == a_9[:, np.newaxis, :]).all()\n",
    "### END HIDDEN TESTS"
   ]
  },
  {
   "cell_type": "markdown",
   "id": "a065bb5e-bc0c-456c-b502-e9e7c852cb93",
   "metadata": {},
   "source": [
    "## Advanced indexing"
   ]
  },
  {
   "cell_type": "markdown",
   "id": "391b94fc-45ba-41f5-ac8f-067bce997841",
   "metadata": {},
   "source": [
    "10.Determine whether the following sentences are True or False and set the corresponding variable in the code below equal to True or False.\n",
    "\n",
    "**question_10_1**: `x[(1, 2, 3),]` triggers basic indexing.\n",
    "\n",
    "**question_10_2**: `x[(1, 2, 3)]` tirggers basic indexing.\n",
    "\n",
    "**question_10_3**: `x[[1, 2, 3]]` triggers advance indexing.\n",
    "\n",
    "**question_10_4**: `x[[slice(0,2)]]` triggers advance indexing."
   ]
  },
  {
   "cell_type": "code",
   "execution_count": 106,
   "id": "920b1bbb-cafb-4805-827f-843f019bb117",
   "metadata": {},
   "outputs": [],
   "source": [
    "### BEGIN SOLUTION\n",
    "### END SOLUTION\n",
    "question_10_1 = False\n",
    "question_10_2 = True\n",
    "question_10_3 = True\n",
    "question_10_4 = False"
   ]
  },
  {
   "cell_type": "code",
   "execution_count": 107,
   "id": "ae80af4b-49a8-46a1-b396-eef9ff33a7a8",
   "metadata": {},
   "outputs": [],
   "source": [
    "### BEGIN HIDDEN TESTS\n",
    "assert question_10_1 == False, \"The ansewr of question 10_1 is incorrect\"\n",
    "### END HIDDEN TESTS"
   ]
  },
  {
   "cell_type": "code",
   "execution_count": 108,
   "id": "4d8589ff-1f25-49cc-815c-4c0895e8ece4",
   "metadata": {},
   "outputs": [],
   "source": [
    "### BEGIN HIDDEN TESTS\n",
    "assert question_10_2 == True, \"The ansewr of question 10_2 is incorrect\"\n",
    "### END HIDDEN TESTS"
   ]
  },
  {
   "cell_type": "code",
   "execution_count": 109,
   "id": "cca97972-1d3c-4b51-92aa-e70407637a59",
   "metadata": {},
   "outputs": [],
   "source": [
    "### BEGIN HIDDEN TESTS\n",
    "assert question_10_3 == True, \"The ansewr of question 10_3 is incorrect\"\n",
    "### END HIDDEN TESTS"
   ]
  },
  {
   "cell_type": "code",
   "execution_count": 110,
   "id": "9ce7ff75-bfe4-4ce4-9575-101dc2a69090",
   "metadata": {},
   "outputs": [],
   "source": [
    "### BEGIN HIDDEN TESTS\n",
    "assert question_10_4 == False, \"The ansewr of question 10_4 is incorrect\"\n",
    "### END HIDDEN TESTS"
   ]
  },
  {
   "cell_type": "markdown",
   "id": "17e8ec8e-173b-43e5-9c7c-73a808de2b02",
   "metadata": {},
   "source": [
    "11.Two-digit numbers are stored in a two-dimensional (**9×10**)-shaped array called `x`. Using advanced indexing, find elements from the second, seventh, and eighth columns that are in the first, sixth, and ninth rows.Then store the requested array in a variable named `a_11`."
   ]
  },
  {
   "cell_type": "markdown",
   "id": "b0146f23-a305-4b53-86a0-9ee2f3a6ba00",
   "metadata": {},
   "source": [
    "![image.png](data:image/png;base64,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)"
   ]
  },
  {
   "cell_type": "code",
   "execution_count": 139,
   "id": "5cbcd5a2-6769-4cd8-ab8c-def753d251fd",
   "metadata": {},
   "outputs": [
    {
     "data": {
      "text/plain": [
       "array([[11, 16, 17],\n",
       "       [61, 66, 67],\n",
       "       [91, 96, 97]])"
      ]
     },
     "execution_count": 139,
     "metadata": {},
     "output_type": "execute_result"
    }
   ],
   "source": [
    "### BEGIN SOLUTION\n",
    "### END SOLUTION\n",
    "x = np.arange(10,100).reshape(9,10)\n",
    "a_11 = x[[0, 5, 8]][:,[1, 6, 7]]\n",
    "a_11"
   ]
  },
  {
   "cell_type": "code",
   "execution_count": 142,
   "id": "db106249-14ef-4a84-880a-ce2b399cb835",
   "metadata": {},
   "outputs": [
    {
     "name": "stdout",
     "output_type": "stream",
     "text": [
      "\n",
      "a_11 = x[[[0], [5], [8]], [1, 6, 7]]\n",
      "or\n",
      "a_11 = x[[0, 5, 8]][:,[1, 6, 7]]\n",
      "\n"
     ]
    }
   ],
   "source": [
    "### BEGIN HIDDEN TESTS\n",
    "text = \"\"\"\n",
    "a_11 = x[[[0], [5], [8]], [1, 6, 7]]\n",
    "or\n",
    "a_11 = x[[0, 5, 8]][:,[1, 6, 7]]\n",
    "\"\"\"\n",
    "print(text)\n",
    "assert (a_11 == np.array([[11, 16, 17], [61, 66, 67], [91, 96, 97]])).all()\n",
    "### END HIDDEN TESTS"
   ]
  },
  {
   "cell_type": "markdown",
   "id": "c0bad97b-7009-47d8-a51c-89c57038c057",
   "metadata": {},
   "source": [
    "12.The rows of the two-dimensional `df` array correspond to each of the patients who visited a clinic yesterday. The first element in each row shows the patients' fasting blood sugar(FBS) and the second number shows the patients' body mass index(BMI).\n",
    "\n",
    "We want you to find the rows that have patients **BMI** greater than **35** *or*  patients **FBS** greater than **125** and store them in a variable called `y`"
   ]
  },
  {
   "cell_type": "code",
   "execution_count": 166,
   "id": "01f24b8c-7b8d-4830-91e9-881d1e894f7f",
   "metadata": {},
   "outputs": [
    {
     "data": {
      "text/plain": [
       "array([[148,  50],\n",
       "       [183,  32],\n",
       "       [137,  33],\n",
       "       [197,  53],\n",
       "       [125,  54]])"
      ]
     },
     "execution_count": 166,
     "metadata": {},
     "output_type": "execute_result"
    }
   ],
   "source": [
    "### BEGIN SOLUTION\n",
    "### END SOLUTION\n",
    "df = np.array([[148,  50],\n",
    "               [ 85,  31],\n",
    "               [183,  32],\n",
    "               [ 89,  21],\n",
    "               [137,  33],\n",
    "               [116,  30],\n",
    "               [ 78,  26],\n",
    "               [115,  29],\n",
    "               [197,  53],\n",
    "               [125,  54]])\n",
    "y = df[(df[:, 0] > 125) | (df[:, 1] > 35)]\n",
    "y"
   ]
  },
  {
   "cell_type": "code",
   "execution_count": 167,
   "id": "a35f724c-f668-422c-a79b-038ab9039609",
   "metadata": {},
   "outputs": [],
   "source": [
    "### BEGIN HIDDEN TESTS\n",
    "text = \"\"\"\n",
    "Solution:  df[(df[:, 0] > 125) | (df[:, 1] > 35)]\n",
    "\"\"\"\n",
    "assert (y == df[(df[:, 0] > 125) | (df[:, 1] > 35)]).all()\n",
    "### END HIDDEN TESTS"
   ]
  }
 ],
 "metadata": {
  "kernelspec": {
   "display_name": "Python 3 (ipykernel)",
   "language": "python",
   "name": "python3"
  },
  "language_info": {
   "codemirror_mode": {
    "name": "ipython",
    "version": 3
   },
   "file_extension": ".py",
   "mimetype": "text/x-python",
   "name": "python",
   "nbconvert_exporter": "python",
   "pygments_lexer": "ipython3",
   "version": "3.10.4"
  }
 },
 "nbformat": 4,
 "nbformat_minor": 5
}
