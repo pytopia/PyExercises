{
 "cells": [
  {
   "cell_type": "markdown",
   "id": "a241c092-4140-490c-b57b-10e78800eda0",
   "metadata": {
    "deletable": false,
    "editable": false,
    "nbgrader": {
     "cell_type": "markdown",
     "checksum": "50f0b675c296d6d33346a1e54bc45197",
     "grade": false,
     "grade_id": "cell-4c5ecf674e89bfb4",
     "locked": true,
     "schema_version": 3,
     "solution": false,
     "task": false
    }
   },
   "source": [
    "# Array creation routines"
   ]
  },
  {
   "cell_type": "code",
   "execution_count": null,
   "id": "fa6ad8c9-a63f-4f7b-b1b8-902cd40a9253",
   "metadata": {
    "deletable": false,
    "editable": false,
    "nbgrader": {
     "cell_type": "code",
     "checksum": "09cfff1799e3f4c68ae8638579ee2aca",
     "grade": false,
     "grade_id": "cell-afd06b5812bcd976",
     "locked": true,
     "schema_version": 3,
     "solution": false,
     "task": false
    }
   },
   "outputs": [],
   "source": [
    "# Import Main Module\n",
    "import numpy as np"
   ]
  },
  {
   "cell_type": "markdown",
   "id": "cb1e7392-e958-49a5-b0d5-f34d8b404dd4",
   "metadata": {
    "deletable": false,
    "editable": false,
    "nbgrader": {
     "cell_type": "markdown",
     "checksum": "6d993f99aea2bf6eb1b166e1bf5b9415",
     "grade": false,
     "grade_id": "cell-6a02693ccc94ee0c",
     "locked": true,
     "schema_version": 3,
     "solution": false,
     "task": false
    }
   },
   "source": [
    "## Converting Python sequences to NumPy Arrays"
   ]
  },
  {
   "cell_type": "markdown",
   "id": "b08058f9-e9fb-48d9-9d7a-1090d3d733a7",
   "metadata": {
    "deletable": false,
    "editable": false,
    "nbgrader": {
     "cell_type": "markdown",
     "checksum": "32c7d1540097ab51b4eb3494c9750c97",
     "grade": false,
     "grade_id": "cell-93f0ea7ac5db5f14",
     "locked": true,
     "schema_version": 3,
     "solution": false,
     "task": false
    }
   },
   "source": [
    "1. Create a list in Python and store it in the `python_list1` variable. Then create a one-dimensional ndarray using the `python_list1` variable and store it in the `ndarray_1d` variable."
   ]
  },
  {
   "cell_type": "code",
   "execution_count": null,
   "id": "38ade8d4-bd8f-4af6-bca0-7a66a54f2cb8",
   "metadata": {
    "deletable": false,
    "nbgrader": {
     "cell_type": "code",
     "checksum": "d9abb679209dffeed47befe5702b66ff",
     "grade": false,
     "grade_id": "cell-ad1ec71247b9a502",
     "locked": false,
     "schema_version": 3,
     "solution": true,
     "task": false
    }
   },
   "outputs": [],
   "source": [
    "# your code here\n",
    "python_list1 = ----\n",
    "ndarray_1d = ----"
   ]
  },
  {
   "cell_type": "code",
   "execution_count": null,
   "id": "5fd31f00-dc9e-4338-a0f7-8983dd8c00c1",
   "metadata": {
    "deletable": false,
    "editable": false,
    "nbgrader": {
     "cell_type": "code",
     "checksum": "66e1ae964b0151bce3ce062a00f75daf",
     "grade": true,
     "grade_id": "cell-3cca7609dbe130dd",
     "locked": true,
     "points": 1,
     "schema_version": 3,
     "solution": false,
     "task": false
    }
   },
   "outputs": [],
   "source": []
  },
  {
   "cell_type": "code",
   "execution_count": null,
   "id": "06dbb320-5ff5-4a82-aeed-6bc79d59bbeb",
   "metadata": {
    "deletable": false,
    "editable": false,
    "nbgrader": {
     "cell_type": "code",
     "checksum": "3bf904dbfc94f3aaf25a6f31b29370e9",
     "grade": true,
     "grade_id": "cell-3eb430f3436b73d9",
     "locked": true,
     "points": 1,
     "schema_version": 3,
     "solution": false,
     "task": false
    }
   },
   "outputs": [],
   "source": []
  },
  {
   "cell_type": "markdown",
   "id": "5a3a8c69-9c89-4ce7-bd46-16edce4934fc",
   "metadata": {
    "deletable": false,
    "editable": false,
    "nbgrader": {
     "cell_type": "markdown",
     "checksum": "7bfffc596e09ca34a1572ff9c7bae64b",
     "grade": false,
     "grade_id": "cell-d4f3a71ca28d09b4",
     "locked": true,
     "schema_version": 3,
     "solution": false,
     "task": false
    }
   },
   "source": [
    "2. Create a nested list in Python and store it in the `python_list2` variable. Then create a two-dimensional ndarray using the `python_list2` variable and store it in the `ndarray_2d` variable."
   ]
  },
  {
   "cell_type": "code",
   "execution_count": null,
   "id": "65e703f9-37ba-423b-80a9-b28f4bf77c7d",
   "metadata": {
    "deletable": false,
    "nbgrader": {
     "cell_type": "code",
     "checksum": "6f9ebafa7f01955d7e73920a045be1d5",
     "grade": false,
     "grade_id": "cell-e2e9e1577bd982d1",
     "locked": false,
     "schema_version": 3,
     "solution": true,
     "task": false
    }
   },
   "outputs": [],
   "source": [
    "# your code here\n",
    "python_list2 = ----\n",
    "ndarray_2d = ----"
   ]
  },
  {
   "cell_type": "code",
   "execution_count": null,
   "id": "67d799ad-dfdb-4f8a-aa6b-d73a0d898aad",
   "metadata": {
    "deletable": false,
    "editable": false,
    "nbgrader": {
     "cell_type": "code",
     "checksum": "58d5377455119acb8fd5383aa272c510",
     "grade": true,
     "grade_id": "cell-c3d4163b2565c27c",
     "locked": true,
     "points": 1,
     "schema_version": 3,
     "solution": false,
     "task": false
    }
   },
   "outputs": [],
   "source": []
  },
  {
   "cell_type": "code",
   "execution_count": null,
   "id": "025751cb-2123-4e37-bd38-b22f04cab2f3",
   "metadata": {
    "deletable": false,
    "editable": false,
    "nbgrader": {
     "cell_type": "code",
     "checksum": "ad6971bf121bdcc2975b0768ae3d17b9",
     "grade": true,
     "grade_id": "cell-b5f505902a0be01f",
     "locked": true,
     "points": 1,
     "schema_version": 3,
     "solution": false,
     "task": false
    }
   },
   "outputs": [],
   "source": []
  },
  {
   "cell_type": "markdown",
   "id": "b967cdc9-059a-4747-b656-cdaa5ba43388",
   "metadata": {
    "deletable": false,
    "editable": false,
    "nbgrader": {
     "cell_type": "markdown",
     "checksum": "ad8931e7e96b6554087512946ebbaa90",
     "grade": false,
     "grade_id": "cell-b4c5c366e4af42ae",
     "locked": true,
     "schema_version": 3,
     "solution": false,
     "task": false
    }
   },
   "source": [
    "3. Create a nested list in Python and store it in the `python_list3` variable. Then create a three-dimensional ndarray using the `python_list3` variable and store it in the `ndarray_3d` variable."
   ]
  },
  {
   "cell_type": "code",
   "execution_count": null,
   "id": "b4ced2e8-26bb-4c2b-a787-95cde94464ec",
   "metadata": {
    "deletable": false,
    "nbgrader": {
     "cell_type": "code",
     "checksum": "3c4fdf26b769475a4019caf7e8750437",
     "grade": false,
     "grade_id": "cell-0a5076596f8dda2c",
     "locked": false,
     "schema_version": 3,
     "solution": true,
     "task": false
    }
   },
   "outputs": [],
   "source": [
    "# your code here\n",
    "python_list3 = ----\n",
    "ndarray_3d = ----"
   ]
  },
  {
   "cell_type": "code",
   "execution_count": null,
   "id": "81c9541d-c8d1-4226-b0fe-1f0e0eefc793",
   "metadata": {
    "deletable": false,
    "editable": false,
    "nbgrader": {
     "cell_type": "code",
     "checksum": "c0b3a9cbd69ddd24b53320e2a88b49a9",
     "grade": true,
     "grade_id": "cell-651a734dcb018834",
     "locked": true,
     "points": 1,
     "schema_version": 3,
     "solution": false,
     "task": false
    }
   },
   "outputs": [],
   "source": []
  },
  {
   "cell_type": "code",
   "execution_count": null,
   "id": "450e4612-b280-41a8-b369-8e2709ef9651",
   "metadata": {
    "deletable": false,
    "editable": false,
    "nbgrader": {
     "cell_type": "code",
     "checksum": "355c776c453e4b09c25001ab80bd6d87",
     "grade": true,
     "grade_id": "cell-78b397977d64365c",
     "locked": true,
     "points": 1,
     "schema_version": 3,
     "solution": false,
     "task": false
    }
   },
   "outputs": [],
   "source": []
  },
  {
   "cell_type": "markdown",
   "id": "42d32721-5da8-40ae-9d77-18457e2fc297",
   "metadata": {
    "deletable": false,
    "editable": false,
    "nbgrader": {
     "cell_type": "markdown",
     "checksum": "accd2e21a66703527d038e5de6f70640",
     "grade": false,
     "grade_id": "cell-4df3b9a29eac52ea",
     "locked": true,
     "schema_version": 3,
     "solution": false,
     "task": false
    }
   },
   "source": [
    "---"
   ]
  },
  {
   "cell_type": "markdown",
   "id": "d6b04ab5-f689-4a78-ba7e-7a19ab948b07",
   "metadata": {
    "deletable": false,
    "editable": false,
    "nbgrader": {
     "cell_type": "markdown",
     "checksum": "f1dcee79ecc9daa17155b19160321496",
     "grade": false,
     "grade_id": "cell-9c18adde51349a05",
     "locked": true,
     "schema_version": 3,
     "solution": false,
     "task": false
    }
   },
   "source": [
    "You should consider the dtype of the elements in the array, which can be specified explicitly. This feature gives you more control over the underlying data structures and how the elements are handled in C/C++ functions."
   ]
  },
  {
   "cell_type": "markdown",
   "id": "bffc0ae5-3a2a-4771-9b07-f697a71360a7",
   "metadata": {
    "deletable": false,
    "editable": false,
    "nbgrader": {
     "cell_type": "markdown",
     "checksum": "2a9d53dfc02eac3a196d16949e9877b9",
     "grade": false,
     "grade_id": "cell-c4d3a4d43e160f34",
     "locked": true,
     "schema_version": 3,
     "solution": false,
     "task": false
    }
   },
   "source": [
    "4. Create a 2-dimensional array of size **3 x 3** named **x**, composed of **1-byte** integer elements."
   ]
  },
  {
   "cell_type": "code",
   "execution_count": null,
   "id": "4be82e9d-9079-4faf-99b0-1d6bdcf2484e",
   "metadata": {
    "deletable": false,
    "nbgrader": {
     "cell_type": "code",
     "checksum": "efd0e623dd960c434b178c264cf3ac4f",
     "grade": false,
     "grade_id": "cell-5f07a58ea373162a",
     "locked": false,
     "schema_version": 3,
     "solution": true,
     "task": false
    }
   },
   "outputs": [],
   "source": [
    "# your code here\n",
    "x = ----\n",
    "x"
   ]
  },
  {
   "cell_type": "code",
   "execution_count": null,
   "id": "a6ce38ce-030e-4c6e-a2d6-8c4d439b00de",
   "metadata": {
    "deletable": false,
    "editable": false,
    "nbgrader": {
     "cell_type": "code",
     "checksum": "7549d4f16b9e021671026e9146bc1cff",
     "grade": true,
     "grade_id": "cell-7e3d902bd39e6f9e",
     "locked": true,
     "points": 2,
     "schema_version": 3,
     "solution": false,
     "task": false
    }
   },
   "outputs": [],
   "source": []
  },
  {
   "cell_type": "markdown",
   "id": "4f762d1a-dca9-40f3-8ad3-c19bfdb53688",
   "metadata": {
    "deletable": false,
    "editable": false,
    "nbgrader": {
     "cell_type": "markdown",
     "checksum": "963383f83d4663eed64b6d28597b4a29",
     "grade": false,
     "grade_id": "cell-933378ed3f91c9bd",
     "locked": true,
     "schema_version": 3,
     "solution": false,
     "task": false
    }
   },
   "source": [
    "---\n",
    "If you are not careful with dtype assignments, you can get unwanted overflow\n",
    "\n",
    "5.Determine whether the following sentences are ```True``` or ```False``` and set the corresponding variable in the code below equal to ```True``` or ```False```.\n",
    "\n",
    "* **question_5_1**:  Dtype `np.int8` is not suitable for creating an array that stores the multiplication table of one-digit numbers.\n",
    "* **question_5_2**:Datatype `np.uint8` is suitable for making an array that stores the temperature of the freezer.\n",
    "* **question_5_3**:The number $2^{8}-1$ can be stored in an array which its data type is `np.uint8`.\n",
    "* **question_5_4**:The output of this line of code \n",
    "```python\n",
    ">>> np.array([-1, 1, -2, 2, -3, 3], dtype=np.uint8)\n",
    "```\n",
    "is equal to:\n",
    "```python\n",
    "array([255,   1, 254,   2, 253,   3], dtype=uint8)\n",
    "```"
   ]
  },
  {
   "cell_type": "code",
   "execution_count": null,
   "id": "466dd685-91ca-4683-a2a4-10c45fcb53e6",
   "metadata": {
    "deletable": false,
    "nbgrader": {
     "cell_type": "code",
     "checksum": "43fd220c155cf3cc3a50205f3d69ad80",
     "grade": false,
     "grade_id": "cell-25baab1d8c6526ed",
     "locked": false,
     "schema_version": 3,
     "solution": true,
     "task": false
    }
   },
   "outputs": [],
   "source": [
    "# your code here\n",
    "question_5_1 = ----\n",
    "question_5_2 = ----\n",
    "question_5_3 = ----\n",
    "question_5_4 = ----"
   ]
  },
  {
   "cell_type": "code",
   "execution_count": null,
   "id": "02783e55-81f3-4ad2-8784-2dfad93c0d64",
   "metadata": {
    "deletable": false,
    "editable": false,
    "nbgrader": {
     "cell_type": "code",
     "checksum": "b773a433b4ea1c2da415f0b7463e9443",
     "grade": true,
     "grade_id": "cell-f8531b57be733c61",
     "locked": true,
     "points": 1,
     "schema_version": 3,
     "solution": false,
     "task": false
    }
   },
   "outputs": [],
   "source": []
  },
  {
   "cell_type": "code",
   "execution_count": null,
   "id": "24afc318-eb8f-4acf-af91-d91b55bfe5b2",
   "metadata": {
    "deletable": false,
    "editable": false,
    "nbgrader": {
     "cell_type": "code",
     "checksum": "ce227003a48472f2df53b1c63272c727",
     "grade": true,
     "grade_id": "cell-0e8da2389f666640",
     "locked": true,
     "points": 1,
     "schema_version": 3,
     "solution": false,
     "task": false
    }
   },
   "outputs": [],
   "source": []
  },
  {
   "cell_type": "code",
   "execution_count": null,
   "id": "ba4e32b3-d354-463a-bdf6-e1695b73358c",
   "metadata": {
    "deletable": false,
    "editable": false,
    "nbgrader": {
     "cell_type": "code",
     "checksum": "80223cf682eda4b89bef64ea4289926d",
     "grade": true,
     "grade_id": "cell-7f5529bc2a1bd272",
     "locked": true,
     "points": 1,
     "schema_version": 3,
     "solution": false,
     "task": false
    }
   },
   "outputs": [],
   "source": []
  },
  {
   "cell_type": "code",
   "execution_count": null,
   "id": "3e6675ce-c0f0-406f-b6c2-1475f532ddfd",
   "metadata": {
    "deletable": false,
    "editable": false,
    "nbgrader": {
     "cell_type": "code",
     "checksum": "41d90341f82ea65dc9421396fb836418",
     "grade": true,
     "grade_id": "cell-1aa7357a03f02078",
     "locked": true,
     "points": 1,
     "schema_version": 3,
     "solution": false,
     "task": false
    }
   },
   "outputs": [],
   "source": []
  },
  {
   "cell_type": "markdown",
   "id": "bd250d89-c4e2-4b54-8210-0d0fa755091a",
   "metadata": {
    "deletable": false,
    "editable": false,
    "nbgrader": {
     "cell_type": "markdown",
     "checksum": "6b2b471857c854012d911fdf22ae3390",
     "grade": false,
     "grade_id": "cell-d1e0a65d1a5d8c4d",
     "locked": true,
     "schema_version": 3,
     "solution": false,
     "task": false
    }
   },
   "source": [
    "---\n",
    "## Intrinsic NumPy array creation functions\n",
    "\n",
    "### 1D array creation functions"
   ]
  },
  {
   "cell_type": "markdown",
   "id": "3747806d-7330-412e-a918-86b7155e85d9",
   "metadata": {
    "deletable": false,
    "editable": false,
    "nbgrader": {
     "cell_type": "markdown",
     "checksum": "c35d46abd68e520b73089b797f4c4d2a",
     "grade": false,
     "grade_id": "cell-4e4af240813eb097",
     "locked": true,
     "schema_version": 3,
     "solution": false,
     "task": false
    }
   },
   "source": [
    "6.Create an array containing the numbers **0** to **999** and store it in variable `a1`."
   ]
  },
  {
   "cell_type": "code",
   "execution_count": null,
   "id": "5da7c66e-7775-4a9a-af68-c0263a694846",
   "metadata": {
    "deletable": false,
    "nbgrader": {
     "cell_type": "code",
     "checksum": "de997779b1bfcac1bca8006e9aeca7f5",
     "grade": false,
     "grade_id": "cell-565b8dd92df48c71",
     "locked": false,
     "schema_version": 3,
     "solution": true,
     "task": false
    }
   },
   "outputs": [],
   "source": [
    "# your code here\n",
    "a1 = ----\n",
    "a1"
   ]
  },
  {
   "cell_type": "code",
   "execution_count": null,
   "id": "2b90f197-bc84-4863-bcc5-31e0de3b6acf",
   "metadata": {
    "deletable": false,
    "editable": false,
    "nbgrader": {
     "cell_type": "code",
     "checksum": "805a548e30cc85b3fce5e65da538a09b",
     "grade": true,
     "grade_id": "cell-e8bc5be37c02e8b2",
     "locked": true,
     "points": 1,
     "schema_version": 3,
     "solution": false,
     "task": false
    }
   },
   "outputs": [],
   "source": []
  },
  {
   "cell_type": "markdown",
   "id": "2efefbf4-a18d-4c3a-8560-584beeaeeb7b",
   "metadata": {
    "deletable": false,
    "editable": false,
    "nbgrader": {
     "cell_type": "markdown",
     "checksum": "43a549dbc71154f711b90eb3bf3cd81f",
     "grade": false,
     "grade_id": "cell-3bd974c81553382b",
     "locked": true,
     "schema_version": 3,
     "solution": false,
     "task": false
    }
   },
   "source": [
    "7.Create an array of dtype `float` containing the numbers -3 to 3 and store it in variable `a2`.\n",
    "\n",
    "(*The number **3** itself is not in the array*)"
   ]
  },
  {
   "cell_type": "code",
   "execution_count": null,
   "id": "5e915a6c-a5bf-4d62-bb8e-7e3daa9b04c2",
   "metadata": {
    "deletable": false,
    "nbgrader": {
     "cell_type": "code",
     "checksum": "5300af8cb3a64dc15cff031ada0a4053",
     "grade": false,
     "grade_id": "cell-5c9c57ea81c3c84b",
     "locked": false,
     "schema_version": 3,
     "solution": true,
     "task": false
    }
   },
   "outputs": [],
   "source": [
    "# your code here\n",
    "a2 = ----\n",
    "a2"
   ]
  },
  {
   "cell_type": "code",
   "execution_count": null,
   "id": "6e3556c8-abf4-48d1-9bc6-af390d513c56",
   "metadata": {
    "deletable": false,
    "editable": false,
    "nbgrader": {
     "cell_type": "code",
     "checksum": "c992b490338b38f9b8d2804b11f8ac6d",
     "grade": true,
     "grade_id": "cell-089d97458bc7f004",
     "locked": true,
     "points": 1,
     "schema_version": 3,
     "solution": false,
     "task": false
    }
   },
   "outputs": [],
   "source": []
  },
  {
   "cell_type": "markdown",
   "id": "9d560c13-4e05-4864-97a0-d75015bc3374",
   "metadata": {
    "deletable": false,
    "editable": false,
    "nbgrader": {
     "cell_type": "markdown",
     "checksum": "dbf9e3afa9da96bf20334286831b076f",
     "grade": false,
     "grade_id": "cell-d02625bdc1ad477c",
     "locked": true,
     "schema_version": 3,
     "solution": false,
     "task": false
    }
   },
   "source": [
    "8.Create an array that starts at **2** and goes up to **10** in steps of **0.1** and store it in variable `a3`.\n",
    "\n",
    "(*The number **10** itself is not in the array*)"
   ]
  },
  {
   "cell_type": "code",
   "execution_count": null,
   "id": "f94b0398-6b28-409d-91d8-463555d5cbba",
   "metadata": {
    "deletable": false,
    "nbgrader": {
     "cell_type": "code",
     "checksum": "5f11a24bd73498eaf53c1dd99ebc7eec",
     "grade": false,
     "grade_id": "cell-0230c6c2095fc81d",
     "locked": false,
     "schema_version": 3,
     "solution": true,
     "task": false
    }
   },
   "outputs": [],
   "source": [
    "# your code here\n",
    "a3 = ----\n",
    "a3"
   ]
  },
  {
   "cell_type": "code",
   "execution_count": null,
   "id": "5c23ec0d-6675-4002-8e59-347a1f48bc6a",
   "metadata": {
    "deletable": false,
    "editable": false,
    "nbgrader": {
     "cell_type": "code",
     "checksum": "d0904c184b65e6d7c238573698736369",
     "grade": true,
     "grade_id": "cell-1aadf25a35c018ec",
     "locked": true,
     "points": 1,
     "schema_version": 3,
     "solution": false,
     "task": false
    }
   },
   "outputs": [],
   "source": []
  },
  {
   "cell_type": "markdown",
   "id": "9ec05796-ef7a-4480-bae1-da8b1cdfe879",
   "metadata": {
    "deletable": false,
    "editable": false,
    "nbgrader": {
     "cell_type": "markdown",
     "checksum": "fe8815f9f72a272a5ec0da60c412f937",
     "grade": false,
     "grade_id": "cell-940aa8365cd19fec",
     "locked": true,
     "schema_version": 3,
     "solution": false,
     "task": false
    }
   },
   "source": [
    "8.Create an array that starts at **-0.5** and goes up to **0.2** in steps of **0.1** and store it in variable `a4`.\n",
    "\n",
    "(*The number **0.2** itself is not in the array*)"
   ]
  },
  {
   "cell_type": "code",
   "execution_count": null,
   "id": "c85371fb-22bc-4b0b-8091-23334aab9ce3",
   "metadata": {
    "deletable": false,
    "nbgrader": {
     "cell_type": "code",
     "checksum": "377ed4e02c04436cd11c0293e8edd82c",
     "grade": false,
     "grade_id": "cell-787dc181c9fa95ef",
     "locked": false,
     "schema_version": 3,
     "solution": true,
     "task": false
    }
   },
   "outputs": [],
   "source": [
    "# your code here\n",
    "a4 = ----\n",
    "a4"
   ]
  },
  {
   "cell_type": "code",
   "execution_count": null,
   "id": "1d6ceb70-05d9-40a0-a589-33bb4258d429",
   "metadata": {
    "deletable": false,
    "editable": false,
    "nbgrader": {
     "cell_type": "code",
     "checksum": "a289a77bd8591cafd88d490b517bae17",
     "grade": true,
     "grade_id": "cell-08ad02daa298df4b",
     "locked": true,
     "points": 1,
     "schema_version": 3,
     "solution": false,
     "task": false
    }
   },
   "outputs": [],
   "source": []
  },
  {
   "cell_type": "markdown",
   "id": "54bf2cda-1d77-4361-8f1d-edaaecfe8462",
   "metadata": {
    "deletable": false,
    "editable": false,
    "nbgrader": {
     "cell_type": "markdown",
     "checksum": "753b78a4a0053c49adf0fd0301b60825",
     "grade": false,
     "grade_id": "cell-8964149c36c75796",
     "locked": true,
     "schema_version": 3,
     "solution": false,
     "task": false
    }
   },
   "source": [
    "Regarding the above question, do you think that `a4` ndarray is exactly equal to this array `array([-0.5, -0.4, -0.3, -0.2,-0.1, 0,  0.1])`?"
   ]
  },
  {
   "cell_type": "markdown",
   "id": "04be14a6-730d-4c1a-8017-93d294a1ef90",
   "metadata": {
    "deletable": false,
    "editable": false,
    "nbgrader": {
     "cell_type": "markdown",
     "checksum": "8de728ef592b08ee8314e65c0b5923a9",
     "grade": false,
     "grade_id": "cell-1647488b314c6ba0",
     "locked": true,
     "schema_version": 3,
     "solution": false,
     "task": false
    }
   },
   "source": [
    "9.Create an array containing **7 elements** between the numbers **1** to **121** in such a way that the numbers 1 and 121 are part of this array and the distance between the numbers should be equal. store the array in `a5` variable"
   ]
  },
  {
   "cell_type": "code",
   "execution_count": null,
   "id": "cf446980-4c7d-4739-9950-7b5f0ce91049",
   "metadata": {
    "deletable": false,
    "nbgrader": {
     "cell_type": "code",
     "checksum": "ad0b384ce3fb661723998850f3e01ca3",
     "grade": false,
     "grade_id": "cell-e7db0b116ab81152",
     "locked": false,
     "schema_version": 3,
     "solution": true,
     "task": false
    }
   },
   "outputs": [],
   "source": [
    "# your code here\n",
    "a5 = ----\n",
    "a5"
   ]
  },
  {
   "cell_type": "code",
   "execution_count": null,
   "id": "b50596af-f71c-408a-8389-7dab79836ed1",
   "metadata": {
    "deletable": false,
    "editable": false,
    "nbgrader": {
     "cell_type": "code",
     "checksum": "f6e44ef1c2d16bd27f1691ed45266af6",
     "grade": true,
     "grade_id": "cell-bb3a5cc167458c17",
     "locked": true,
     "points": 1,
     "schema_version": 3,
     "solution": false,
     "task": false
    }
   },
   "outputs": [],
   "source": []
  },
  {
   "cell_type": "markdown",
   "id": "528b7d91-4974-4876-a12c-44fe413a61b1",
   "metadata": {
    "deletable": false,
    "editable": false,
    "nbgrader": {
     "cell_type": "markdown",
     "checksum": "35bf50893fe1e720e5e4ec16abcb94b2",
     "grade": false,
     "grade_id": "cell-69ba745f6dae2e0e",
     "locked": true,
     "schema_version": 3,
     "solution": false,
     "task": false
    }
   },
   "source": [
    "10.Create an array containing **16** elements between the numbers **-3** to **3** in such a way that the numbers -3 and 3 are part of this array and the distance between the numbers should be equal. store the array in ``a6`` variable"
   ]
  },
  {
   "cell_type": "code",
   "execution_count": null,
   "id": "21680618-e957-496b-b4fa-831340f3f75b",
   "metadata": {
    "deletable": false,
    "nbgrader": {
     "cell_type": "code",
     "checksum": "fdce14f4c6a8ea15ffe7cb78b66eb069",
     "grade": false,
     "grade_id": "cell-689da59ecc1794db",
     "locked": false,
     "schema_version": 3,
     "solution": true,
     "task": false
    }
   },
   "outputs": [],
   "source": [
    "# your code here\n",
    "a6 = ----\n",
    "a6"
   ]
  },
  {
   "cell_type": "code",
   "execution_count": null,
   "id": "51ac09b2-22f5-4572-89d3-a2dd20956dc8",
   "metadata": {
    "deletable": false,
    "editable": false,
    "nbgrader": {
     "cell_type": "code",
     "checksum": "38a8512913329e883af43e478f35b9b7",
     "grade": true,
     "grade_id": "cell-d429af00a8af4ea4",
     "locked": true,
     "points": 1,
     "schema_version": 3,
     "solution": false,
     "task": false
    }
   },
   "outputs": [],
   "source": []
  },
  {
   "cell_type": "markdown",
   "id": "ac3a352e-1ea9-4ca1-a63a-396f33f57f5d",
   "metadata": {
    "deletable": false,
    "editable": false,
    "nbgrader": {
     "cell_type": "markdown",
     "checksum": "86dbd7e98c87221330ac4261a920502f",
     "grade": false,
     "grade_id": "cell-8d213e2dd9239508",
     "locked": true,
     "schema_version": 3,
     "solution": false,
     "task": false
    }
   },
   "source": [
    "### 2D array creation functions"
   ]
  },
  {
   "cell_type": "markdown",
   "id": "440dbedc-0beb-4d95-9200-e68e4f0d022a",
   "metadata": {
    "deletable": false,
    "editable": false,
    "nbgrader": {
     "cell_type": "markdown",
     "checksum": "3a7536b2b681b523605f3d5c92eb61e0",
     "grade": false,
     "grade_id": "cell-f1d859bacd539dec",
     "locked": true,
     "schema_version": 3,
     "solution": false,
     "task": false
    }
   },
   "source": [
    "11.Create an **4×4** array that its **main diameter** is equal to **1** and other elements are equal to **zero** and store this variable in `a7` variable"
   ]
  },
  {
   "cell_type": "code",
   "execution_count": null,
   "id": "076872b6-3000-4075-8efa-4c2f14085bb4",
   "metadata": {
    "deletable": false,
    "nbgrader": {
     "cell_type": "code",
     "checksum": "0cea5adaa312334a3f9b441cf1a5bba9",
     "grade": false,
     "grade_id": "cell-816ab82eac965d86",
     "locked": false,
     "schema_version": 3,
     "solution": true,
     "task": false
    }
   },
   "outputs": [],
   "source": [
    "# your code here\n",
    "a7 = ----\n",
    "a7"
   ]
  },
  {
   "cell_type": "code",
   "execution_count": null,
   "id": "0c15faea-a045-46ca-bb8a-0be9aa22747e",
   "metadata": {
    "deletable": false,
    "editable": false,
    "nbgrader": {
     "cell_type": "code",
     "checksum": "e00e0531f7d32a248228f0e0b560b56e",
     "grade": true,
     "grade_id": "cell-b6055fa2ca749b43",
     "locked": true,
     "points": 1,
     "schema_version": 3,
     "solution": false,
     "task": false
    }
   },
   "outputs": [],
   "source": []
  },
  {
   "cell_type": "markdown",
   "id": "a9aeecec-c186-40f2-859b-3c6445f07371",
   "metadata": {
    "deletable": false,
    "editable": false,
    "nbgrader": {
     "cell_type": "markdown",
     "checksum": "84dee6e6e68bf7482c954b17b1ca8947",
     "grade": false,
     "grade_id": "cell-c7a94bc9ab709d11",
     "locked": true,
     "schema_version": 3,
     "solution": false,
     "task": false
    }
   },
   "source": [
    "12.Create an **5×5** array that its second diameter above the **main diameter** is equal to **1** and other elements are equal to **zero** and store this variable in `a8` variable"
   ]
  },
  {
   "cell_type": "code",
   "execution_count": null,
   "id": "406214a9-84f6-497f-8951-d85ca253b704",
   "metadata": {
    "deletable": false,
    "nbgrader": {
     "cell_type": "code",
     "checksum": "32ef534d050b852f29362cd0f18fe841",
     "grade": false,
     "grade_id": "cell-905c1d28303a0052",
     "locked": false,
     "schema_version": 3,
     "solution": true,
     "task": false
    }
   },
   "outputs": [],
   "source": [
    "# your code here\n",
    "a8 = ----\n",
    "a8"
   ]
  },
  {
   "cell_type": "code",
   "execution_count": null,
   "id": "35f703e0-9e40-4430-a393-8f2f59103271",
   "metadata": {
    "deletable": false,
    "editable": false,
    "nbgrader": {
     "cell_type": "code",
     "checksum": "ca13ee26147dccb81fc5130711f0b677",
     "grade": true,
     "grade_id": "cell-c29f667455bc406b",
     "locked": true,
     "points": 1,
     "schema_version": 3,
     "solution": false,
     "task": false
    }
   },
   "outputs": [],
   "source": []
  },
  {
   "cell_type": "markdown",
   "id": "692f50b6-c431-479f-b8e2-d9e360a9fb8c",
   "metadata": {
    "deletable": false,
    "editable": false,
    "nbgrader": {
     "cell_type": "markdown",
     "checksum": "1615764ad7373fae0e10066e77301864",
     "grade": false,
     "grade_id": "cell-d01430b688b707f5",
     "locked": true,
     "schema_version": 3,
     "solution": false,
     "task": false
    }
   },
   "source": [
    "13.Create a **7×7** array that it's **main diameter** contains the numbers from **1** to **121** with equal distance and other elements are equal to **zero**  then store it in the `a9` variable."
   ]
  },
  {
   "cell_type": "code",
   "execution_count": null,
   "id": "4333912c-35c1-41ad-a81f-b4b915c20430",
   "metadata": {
    "deletable": false,
    "nbgrader": {
     "cell_type": "code",
     "checksum": "fc3981e1ce22c927c5f61d79e1017be2",
     "grade": false,
     "grade_id": "cell-b714cfbc6e8a6465",
     "locked": false,
     "schema_version": 3,
     "solution": true,
     "task": false
    }
   },
   "outputs": [],
   "source": [
    "# your code here\n",
    "a9 = ----\n",
    "a9"
   ]
  },
  {
   "cell_type": "code",
   "execution_count": null,
   "id": "a6afda07-62ab-40e6-ab28-a196790f7bb2",
   "metadata": {
    "deletable": false,
    "editable": false,
    "nbgrader": {
     "cell_type": "code",
     "checksum": "47688186ec368cd7a28295ead7a5e743",
     "grade": true,
     "grade_id": "cell-4cb5081bc93065c8",
     "locked": true,
     "points": 1,
     "schema_version": 3,
     "solution": false,
     "task": false
    }
   },
   "outputs": [],
   "source": []
  },
  {
   "cell_type": "markdown",
   "id": "e6a90e03-61d9-45e3-ac3d-edbaa9a640cc",
   "metadata": {
    "deletable": false,
    "editable": false,
    "nbgrader": {
     "cell_type": "markdown",
     "checksum": "3db784da380bf527ed627d45799c5cfb",
     "grade": false,
     "grade_id": "cell-ead9065de73901d7",
     "locked": true,
     "schema_version": 3,
     "solution": false,
     "task": false
    }
   },
   "source": [
    "14. A **5×5** array is stored in a variable named **z**, store the value of the **second** diameter **lower** than the main diameter in a variable called `a10`."
   ]
  },
  {
   "cell_type": "code",
   "execution_count": null,
   "id": "769d7622-ecd2-4a8a-a7bc-0e1fba790f92",
   "metadata": {
    "deletable": false,
    "nbgrader": {
     "cell_type": "code",
     "checksum": "f097fe95c2a9ef3ff9c3434052c3939c",
     "grade": false,
     "grade_id": "cell-91f052e4c0d530f0",
     "locked": false,
     "schema_version": 3,
     "solution": true,
     "task": false
    }
   },
   "outputs": [],
   "source": [
    "# your code here\n",
    "z = np.arange(25).reshape(5, 5)\n",
    "a10 = ----\n",
    "a10"
   ]
  },
  {
   "cell_type": "code",
   "execution_count": null,
   "id": "95abc225-84cd-40b9-8d67-2475f5c8aac5",
   "metadata": {
    "deletable": false,
    "editable": false,
    "nbgrader": {
     "cell_type": "code",
     "checksum": "27a567598260a0f318411190c0231e9d",
     "grade": true,
     "grade_id": "cell-2e816ffa357f5399",
     "locked": true,
     "points": 1,
     "schema_version": 3,
     "solution": false,
     "task": false
    }
   },
   "outputs": [],
   "source": []
  },
  {
   "cell_type": "markdown",
   "id": "42fd1034-73b9-4371-8221-3ace145b214b",
   "metadata": {
    "deletable": false,
    "editable": false,
    "nbgrader": {
     "cell_type": "markdown",
     "checksum": "4bca3d9d0889f534c343e441ae30cf27",
     "grade": false,
     "grade_id": "cell-c0504eb1ec038778",
     "locked": true,
     "schema_version": 3,
     "solution": false,
     "task": false
    }
   },
   "source": [
    "### General ndarray creation functions"
   ]
  },
  {
   "cell_type": "markdown",
   "id": "cd33f8cd-c506-425d-a315-f3b94fbeecfa",
   "metadata": {
    "deletable": false,
    "editable": false,
    "nbgrader": {
     "cell_type": "markdown",
     "checksum": "e4879e683cbd30e0f3983f6ba4a4c6dd",
     "grade": false,
     "grade_id": "cell-45c2b67c1cb72004",
     "locked": true,
     "schema_version": 3,
     "solution": false,
     "task": false
    }
   },
   "source": [
    "15.Create a **6x4** array with all **zero** elements and store it in variable `a11`."
   ]
  },
  {
   "cell_type": "code",
   "execution_count": null,
   "id": "abf234c1-3f1d-4df3-868d-77dd1c2e7a17",
   "metadata": {
    "deletable": false,
    "nbgrader": {
     "cell_type": "code",
     "checksum": "6b8655c703d44967a893e671b6637ddf",
     "grade": false,
     "grade_id": "cell-ba938cdc3fc73e10",
     "locked": false,
     "schema_version": 3,
     "solution": true,
     "task": false
    }
   },
   "outputs": [],
   "source": [
    "# your code here\n",
    "a11 = ----\n",
    "a11"
   ]
  },
  {
   "cell_type": "code",
   "execution_count": null,
   "id": "8bb00f0e-001c-4f86-99c2-f11dfdccb3d9",
   "metadata": {
    "deletable": false,
    "editable": false,
    "nbgrader": {
     "cell_type": "code",
     "checksum": "81e49638d1227fc39d4f43aebba0e98e",
     "grade": true,
     "grade_id": "cell-1ef708fb26b92a78",
     "locked": true,
     "points": 1,
     "schema_version": 3,
     "solution": false,
     "task": false
    }
   },
   "outputs": [],
   "source": []
  },
  {
   "cell_type": "markdown",
   "id": "831e3f59-4bae-4066-bf17-eeaeb281201f",
   "metadata": {
    "deletable": false,
    "editable": false,
    "nbgrader": {
     "cell_type": "markdown",
     "checksum": "a6fde9fc1973573ca5b56dedd00df3cb",
     "grade": false,
     "grade_id": "cell-cecd1990d40abe4b",
     "locked": true,
     "schema_version": 3,
     "solution": false,
     "task": false
    }
   },
   "source": [
    "16.Create a **6x4** array with all **one** elements and store it in variable `a12`."
   ]
  },
  {
   "cell_type": "code",
   "execution_count": null,
   "id": "68272300-51f9-49b2-bb9d-0939bbdc3f8d",
   "metadata": {
    "deletable": false,
    "nbgrader": {
     "cell_type": "code",
     "checksum": "5cce96d3cce2b4202782dbbee8e87b51",
     "grade": false,
     "grade_id": "cell-76abc494430ace01",
     "locked": false,
     "schema_version": 3,
     "solution": true,
     "task": false
    }
   },
   "outputs": [],
   "source": [
    "# your code here\n",
    "a12 = ----\n",
    "a12"
   ]
  },
  {
   "cell_type": "code",
   "execution_count": null,
   "id": "f684385c-3c87-488b-bd4b-3ba32bce1434",
   "metadata": {
    "deletable": false,
    "editable": false,
    "nbgrader": {
     "cell_type": "code",
     "checksum": "89bb7c3dffa5a1647bde86ee338da81d",
     "grade": true,
     "grade_id": "cell-ca36d91bf16e1577",
     "locked": true,
     "points": 1,
     "schema_version": 3,
     "solution": false,
     "task": false
    }
   },
   "outputs": [],
   "source": []
  },
  {
   "cell_type": "markdown",
   "id": "62b39c67-6a93-45b1-be0b-f348377bb898",
   "metadata": {
    "deletable": false,
    "editable": false,
    "nbgrader": {
     "cell_type": "markdown",
     "checksum": "68b59b7edbf7e10fcc57f2e89517d5ea",
     "grade": false,
     "grade_id": "cell-270097e3614be223",
     "locked": true,
     "schema_version": 3,
     "solution": false,
     "task": false
    }
   },
   "source": [
    "17.Create a **6x4** array with all **random** elements and store it in variable `a13`.\n",
    "\n",
    "(**Hint**: use \n",
    "\n",
    "```python\n",
    "numpy.random.default_rng(seed=None).random(shape=(m, n))\n",
    "``` \n",
    "and set **seed equal to 32**)"
   ]
  },
  {
   "cell_type": "code",
   "execution_count": null,
   "id": "3049943d-60b9-46d5-995d-c86a9a3cba49",
   "metadata": {
    "deletable": false,
    "nbgrader": {
     "cell_type": "code",
     "checksum": "9775701de7c04db35340ee923184a746",
     "grade": false,
     "grade_id": "cell-1bd6a4965d41cf2b",
     "locked": false,
     "schema_version": 3,
     "solution": true,
     "task": false
    }
   },
   "outputs": [],
   "source": [
    "# your code here\n",
    "a13 = ----\n",
    "a13"
   ]
  },
  {
   "cell_type": "code",
   "execution_count": null,
   "id": "466dc69e-74f2-41d5-9d7b-902038bf3579",
   "metadata": {
    "deletable": false,
    "editable": false,
    "nbgrader": {
     "cell_type": "code",
     "checksum": "afba7ff72d664a246e5a1c9ec224973a",
     "grade": true,
     "grade_id": "cell-c220a8fb9b546f61",
     "locked": true,
     "points": 1,
     "schema_version": 3,
     "solution": false,
     "task": false
    }
   },
   "outputs": [],
   "source": []
  },
  {
   "cell_type": "markdown",
   "id": "b85d16e1-5660-4245-afdd-6dfb50146444",
   "metadata": {
    "deletable": false,
    "editable": false,
    "nbgrader": {
     "cell_type": "markdown",
     "checksum": "65442dc5e4014ccddf288d5f6c1277bd",
     "grade": false,
     "grade_id": "cell-afc446953e9ef6ff",
     "locked": true,
     "schema_version": 3,
     "solution": false,
     "task": false
    }
   },
   "source": [
    "18.Create a **6x4** array with empty elements and store it in variable `a14`.\n",
    "\n",
    "**Hint**: use \n",
    "\n",
    "```python\n",
    "numpy.empty(shape=(m, n))\n",
    "``` \n"
   ]
  },
  {
   "cell_type": "code",
   "execution_count": null,
   "id": "a2a7e44e-966f-4423-bb55-535a49268337",
   "metadata": {
    "deletable": false,
    "nbgrader": {
     "cell_type": "code",
     "checksum": "41c9632be6ec673b74af1a3549a64e70",
     "grade": false,
     "grade_id": "cell-f6aa15b03c9f023b",
     "locked": false,
     "schema_version": 3,
     "solution": true,
     "task": false
    }
   },
   "outputs": [],
   "source": [
    "# your code here\n",
    "a14 = ----\n",
    "a14"
   ]
  },
  {
   "cell_type": "code",
   "execution_count": null,
   "id": "efd94a95-8ffd-4908-a37b-56a8a458d305",
   "metadata": {
    "deletable": false,
    "editable": false,
    "nbgrader": {
     "cell_type": "code",
     "checksum": "011562c67b62e06cd9b4c8018c76664a",
     "grade": true,
     "grade_id": "cell-027c2376fadbabe0",
     "locked": true,
     "points": 1,
     "schema_version": 3,
     "solution": false,
     "task": false
    }
   },
   "outputs": [],
   "source": []
  },
  {
   "cell_type": "markdown",
   "id": "b4a53a25-fb6c-4427-995b-a5905952f43e",
   "metadata": {
    "deletable": false,
    "editable": false,
    "nbgrader": {
     "cell_type": "markdown",
     "checksum": "3eef50ab73089105f21fdb49df644309",
     "grade": false,
     "grade_id": "cell-da28189e8d9cc2be",
     "locked": true,
     "schema_version": 3,
     "solution": false,
     "task": false
    }
   },
   "source": [
    "Can you explain what is the difference between `a13` and `a14` array?"
   ]
  },
  {
   "cell_type": "markdown",
   "id": "f5da50b7-8d0f-4556-9b4a-98e6b8722cee",
   "metadata": {
    "deletable": false,
    "editable": false,
    "nbgrader": {
     "cell_type": "markdown",
     "checksum": "8130478bfce65e13cc32c6a44958f7e4",
     "grade": false,
     "grade_id": "cell-329743143d43cdb8",
     "locked": true,
     "schema_version": 3,
     "solution": false,
     "task": false
    }
   },
   "source": [
    "19.Create a **8x3** array with all its elements equal to the `\"Pytopia\"` and then store it in the `a15` variable."
   ]
  },
  {
   "cell_type": "code",
   "execution_count": null,
   "id": "ee80388e-1bd9-45d5-ad89-839d581137ad",
   "metadata": {
    "deletable": false,
    "nbgrader": {
     "cell_type": "code",
     "checksum": "9cfb194e9c5229792aabd88d1e1ab997",
     "grade": false,
     "grade_id": "cell-387533c0b0df4869",
     "locked": false,
     "schema_version": 3,
     "solution": true,
     "task": false
    }
   },
   "outputs": [],
   "source": [
    "# your code here\n",
    "a15 = ----\n",
    "a15"
   ]
  },
  {
   "cell_type": "code",
   "execution_count": null,
   "id": "5d278343-e7f1-44fa-867f-9d19fc207a27",
   "metadata": {
    "deletable": false,
    "editable": false,
    "nbgrader": {
     "cell_type": "code",
     "checksum": "197aed56261a5b0c82278323d0a22b80",
     "grade": true,
     "grade_id": "cell-d1dac9590d39a202",
     "locked": true,
     "points": 1,
     "schema_version": 3,
     "solution": false,
     "task": false
    }
   },
   "outputs": [],
   "source": []
  },
  {
   "cell_type": "markdown",
   "id": "ca3f3344-d763-4336-88e2-a3d0725e85be",
   "metadata": {
    "deletable": false,
    "editable": false,
    "nbgrader": {
     "cell_type": "markdown",
     "checksum": "6bf032d2c988180c514a868b35178d0f",
     "grade": false,
     "grade_id": "cell-8d44ac6d27f16afe",
     "locked": true,
     "schema_version": 3,
     "solution": false,
     "task": false
    }
   },
   "source": [
    "20.Using numpy with one line of code, create an array similar to the one below and store it in the `a16` variable.\n",
    "```python\n",
    "array([[-inf,  nan,  inf],\n",
    "       [-inf,  nan,  inf],\n",
    "       [-inf,  nan,  inf],\n",
    "       [-inf,  nan,  inf],\n",
    "       [-inf,  nan,  inf],\n",
    "       [-inf,  nan,  inf]])\n",
    "```"
   ]
  },
  {
   "cell_type": "code",
   "execution_count": null,
   "id": "fb132519-6f28-43c0-9b09-ea27354223fb",
   "metadata": {
    "deletable": false,
    "nbgrader": {
     "cell_type": "code",
     "checksum": "a825ff00acf9faeb607cf85663d9aff2",
     "grade": true,
     "grade_id": "cell-29cf5a66ed0b7616",
     "locked": false,
     "points": 1,
     "schema_version": 3,
     "solution": true,
     "task": false
    }
   },
   "outputs": [],
   "source": [
    "# your code here\n",
    "a16 = ----\n",
    "a16"
   ]
  }
 ],
 "metadata": {
  "kernelspec": {
   "display_name": "Python 3 (ipykernel)",
   "language": "python",
   "name": "python3"
  },
  "language_info": {
   "codemirror_mode": {
    "name": "ipython",
    "version": 3
   },
   "file_extension": ".py",
   "mimetype": "text/x-python",
   "name": "python",
   "nbconvert_exporter": "python",
   "pygments_lexer": "ipython3",
   "version": "3.9.12"
  }
 },
 "nbformat": 4,
 "nbformat_minor": 5
}
