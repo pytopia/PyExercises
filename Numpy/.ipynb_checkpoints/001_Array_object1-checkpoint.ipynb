{
 "cells": [
  {
   "cell_type": "code",
   "execution_count": 1,
   "id": "09336ff0-cf2f-4c8f-b868-08f2c42c8065",
   "metadata": {},
   "outputs": [],
   "source": [
    "# Import main module\n",
    "import numpy as np"
   ]
  },
  {
   "cell_type": "markdown",
   "id": "e703e909-7b2a-43ce-b6c6-6d2db6a76050",
   "metadata": {},
   "source": [
    "# Array objects\n",
    "\n",
    "## Fundemental Three object in numpy\n",
    "* ndarray\n",
    "* array scalar object\n",
    "* data-type object"
   ]
  },
  {
   "cell_type": "code",
   "execution_count": null,
   "id": "9fee8c34-0e1e-48d1-bb0f-adc8b7885b14",
   "metadata": {},
   "outputs": [],
   "source": []
  },
  {
   "cell_type": "markdown",
   "id": "ef844b2e-61cd-4ee3-9e7e-a7c36329d6ec",
   "metadata": {},
   "source": [
    "1.Store the type of object `a` in variable `a_type`:"
   ]
  },
  {
   "cell_type": "code",
   "execution_count": 2,
   "id": "5f379735-5de5-4e9a-85a2-bcbd17c12a62",
   "metadata": {},
   "outputs": [],
   "source": [
    "a = np.array([1, 2, 3])\n",
    "a_type = type(a)"
   ]
  },
  {
   "cell_type": "code",
   "execution_count": 3,
   "id": "084c1e14-6fb5-4d68-af36-cc67396c6da6",
   "metadata": {},
   "outputs": [],
   "source": [
    "assert a_type == type(a), f\"Type of a is {type(a)} but your a_type is :{a_type}\""
   ]
  },
  {
   "cell_type": "code",
   "execution_count": 4,
   "id": "d3df7619-fa8e-4456-a857-ccb20aa0e95d",
   "metadata": {},
   "outputs": [
    {
     "name": "stdout",
     "output_type": "stream",
     "text": [
      "------------------------------------------------------------\n",
      "NumPy provides an N-dimensional array type, the ndarray, which describes a collection of “items” of the same type. The items can be indexed using for example N integers.\n",
      "\n"
     ]
    }
   ],
   "source": [
    "print(\"-\"*60)\n",
    "print(\"NumPy provides an N-dimensional array type, the ndarray, which describes a collection of “items” of the same type. The items can be indexed using for example N integers.\")\n",
    "print()"
   ]
  },
  {
   "cell_type": "markdown",
   "id": "25dfb2b6-1e44-4899-b26a-72c5a60f7e30",
   "metadata": {},
   "source": [
    "2.Store the type of object `a[0]` in variable `a0_type`:"
   ]
  },
  {
   "cell_type": "code",
   "execution_count": 5,
   "id": "40997de8-5cd0-421c-b45a-259482802539",
   "metadata": {},
   "outputs": [],
   "source": [
    "a0_type = type(a[0])"
   ]
  },
  {
   "cell_type": "code",
   "execution_count": 6,
   "id": "6c080e2a-3dc2-4bf4-9295-380f1fd1a9a2",
   "metadata": {},
   "outputs": [],
   "source": [
    "assert a0_type == type(a[0]), f\"Type of a[0] is {type(a[0])} but your a0_type is :{a0_type}\""
   ]
  },
  {
   "cell_type": "code",
   "execution_count": 7,
   "id": "c20d7df9-bf70-46d7-9997-e8a61a309eee",
   "metadata": {},
   "outputs": [
    {
     "name": "stdout",
     "output_type": "stream",
     "text": [
      "------------------------------------------------------------\n",
      "An item extracted from an array, e.g., by indexing, is represented by a Python object whose type is one of the array scalar types built in NumPy. The array scalars allow easy manipulation of also more complicated arrangements of data.\n",
      "\n"
     ]
    }
   ],
   "source": [
    "print(\"-\"*60)\n",
    "print(\"An item extracted from an array, e.g., by indexing, is represented by a Python object whose type is one of the array scalar types built in NumPy. The array scalars allow easy manipulation of also more complicated arrangements of data.\")\n",
    "print()"
   ]
  },
  {
   "cell_type": "markdown",
   "id": "661153bf-689e-4134-bf09-217d335f9625",
   "metadata": {},
   "source": [
    "3.Store the data type of object `a` in variable `a_data_type`:"
   ]
  },
  {
   "cell_type": "code",
   "execution_count": 8,
   "id": "f0222fd0-a3b6-4529-a4c6-aedcd0a7a798",
   "metadata": {},
   "outputs": [],
   "source": [
    "a_data_type = a.dtype"
   ]
  },
  {
   "cell_type": "code",
   "execution_count": 9,
   "id": "f340bfea-3f52-442d-a43b-1ca5022eaf40",
   "metadata": {},
   "outputs": [],
   "source": [
    "assert a_data_type == a.dtype, f\"Data Type of a is {a.dtype} but your a_data_type is :{a_data_type}\"\n"
   ]
  },
  {
   "cell_type": "code",
   "execution_count": 10,
   "id": "73466bc0-f002-4794-9faf-8f52558a299e",
   "metadata": {},
   "outputs": [
    {
     "name": "stdout",
     "output_type": "stream",
     "text": [
      "All ndarrays are homogeneous: every item takes up the same size block of memory, and all blocks are interpreted in exactly the same way. How each item in the array is to be interpreted is specified by a separate data-type object, one of which is associated with every array. In addition to basic types (integers, floats, etc.), the data type objects can also represent data structures.\n"
     ]
    }
   ],
   "source": [
    "print(\"All ndarrays are homogeneous: every item takes up the same size block of memory, and all blocks are interpreted in exactly the same way. How each item in the array is to be interpreted is specified by a separate data-type object, one of which is associated with every array. In addition to basic types (integers, floats, etc.), the data type objects can also represent data structures.\")"
   ]
  },
  {
   "cell_type": "markdown",
   "id": "cdd6f236-ce04-42c5-be6e-957ef88161e6",
   "metadata": {},
   "source": [
    "# The N-dimensional array"
   ]
  },
  {
   "cell_type": "markdown",
   "id": "6c2bd60c-d2e7-4f77-b7ef-806349860844",
   "metadata": {},
   "source": [
    "|Type|Bytes|Range|\n",
    "|---|---|---|\n",
    "|**np.int8**|1|-128 to 127|\n",
    "|**np.int16**|2|-32768 to 32767|\n",
    "|**np.int32**|4|-2147483648 to 2147483647|\n",
    "|**np.int64**|8|-9223372036854775808 to 9223372036854775807|"
   ]
  },
  {
   "cell_type": "markdown",
   "id": "721d5822-6acc-45d6-8d69-ce21ccb9e907",
   "metadata": {},
   "source": [
    "4. Create a 2-dimensional array of size **3 x 4** named `x`, composed of **4-byte** integer elements:\n",
    "\n"
   ]
  },
  {
   "cell_type": "code",
   "execution_count": 13,
   "id": "d8e5520c-a653-4f87-8645-4ed6121515fb",
   "metadata": {},
   "outputs": [],
   "source": [
    "x = np.array([[1,2,3,-1],[4,5,6,-2],[7,8,9,-3]], dtype=\"int32\")"
   ]
  },
  {
   "cell_type": "code",
   "execution_count": 14,
   "id": "444fd1fa-0dd7-422e-b8bc-c2d91346709c",
   "metadata": {},
   "outputs": [],
   "source": [
    "assert x.shape == (3, 4), f\"Shape of your array supposed to be 3 x 4 but shape of your array is {x.shape}\"\n",
    "assert x.dtype == np.int32, f\"Data Type of your array supposed to be int32 but it is: {x.dtype}\""
   ]
  },
  {
   "cell_type": "code",
   "execution_count": 16,
   "id": "b93226f6-3afc-4c88-a0b4-d0edafcfca1f",
   "metadata": {},
   "outputs": [
    {
     "name": "stdout",
     "output_type": "stream",
     "text": [
      "------------------------------------------------------------\n",
      "The number of dimensions and items in an array is defined by its shape, which is a tuple of N non-negative integers that specify the sizes of each dimension.\n",
      "The type of items in the array is specified by a separate data-type object (dtype), one of which is associated with each ndarray.\n",
      "\n"
     ]
    }
   ],
   "source": [
    "print(\"-\"*60)\n",
    "print(\"The number of dimensions and items in an array is defined by its shape, which is a tuple of N non-negative integers that specify the sizes of each dimension.\\nThe type of items in the array is specified by a separate data-type object (dtype), one of which is associated with each ndarray.\")\n",
    "print()"
   ]
  },
  {
   "cell_type": "code",
   "execution_count": null,
   "id": "e2e0c3cc-05be-4ba7-b749-2d80ceb4d9c4",
   "metadata": {},
   "outputs": [],
   "source": [
    "x.dtype"
   ]
  },
  {
   "cell_type": "code",
   "execution_count": null,
   "id": "d29f41f6-7e2f-46c2-ba36-5a8728983001",
   "metadata": {},
   "outputs": [],
   "source": [
    "sys.getsizeof(x[1][1])"
   ]
  },
  {
   "cell_type": "markdown",
   "id": "2042de08-a493-4d49-8c74-fc78113d9854",
   "metadata": {},
   "source": [
    "5. store the element of **x** in the **second row**, **forth column** in the variable `e`:"
   ]
  },
  {
   "cell_type": "code",
   "execution_count": 15,
   "id": "8bbd9dcb-177b-4272-b082-28a212ee57d6",
   "metadata": {},
   "outputs": [],
   "source": [
    "e = x[1][3]"
   ]
  },
  {
   "cell_type": "code",
   "execution_count": null,
   "id": "ed5ced31-696b-49da-9d42-6ef5692f856c",
   "metadata": {},
   "outputs": [],
   "source": [
    "assert e == x[1][3], f\"The value of e is incorrect and supposed to be {x[1][3]}\""
   ]
  },
  {
   "cell_type": "code",
   "execution_count": 17,
   "id": "8d371868-9e58-4a15-9411-2feef9e50965",
   "metadata": {},
   "outputs": [
    {
     "name": "stdout",
     "output_type": "stream",
     "text": [
      "------------------------------------------------------------\n",
      "The array can be indexed using Python container-like syntax x[1][3]\n",
      "\n"
     ]
    }
   ],
   "source": [
    "print(\"-\"*60)\n",
    "print(\"The array can be indexed using Python container-like syntax x[1][3]\")\n",
    "print()"
   ]
  },
  {
   "cell_type": "markdown",
   "id": "f79212ec-db9a-4a98-b235-b28cc7f0f507",
   "metadata": {},
   "source": [
    "Different ndarrays can share the same data, so that changes made in one ndarray may be visible in another. That is, an ndarray can be a **“view”** to another ndarray, and the data it is referring to is taken care of by the “base” ndarray. \n",
    "\n",
    "For example slicing can produce views of the array\n",
    "\n",
    "6. Create a slice of the array `x` and name it `y` so that it includes the **third** and **fourth** columns of all rows."
   ]
  },
  {
   "cell_type": "code",
   "execution_count": 23,
   "id": "5a56214d-e8ca-4399-adcb-ccc20ac31329",
   "metadata": {},
   "outputs": [],
   "source": [
    "y = x[:,2:4]"
   ]
  },
  {
   "cell_type": "code",
   "execution_count": 29,
   "id": "9efce0d5-7d11-4112-8987-165e3529875a",
   "metadata": {},
   "outputs": [],
   "source": [
    "assert (y==x[:,2:4]).all(), f\"The value of y is incorrect and supposed to be {x[:,2:4]}\""
   ]
  },
  {
   "cell_type": "markdown",
   "id": "af3eb3bc-2130-441f-acba-9086e32492b2",
   "metadata": {},
   "source": [
    "7.The element that is in the second row and the first column of ndarray `y` is equivalent to which element of ndarray `x`?\n",
    "$$X[n\\_row][n\\_col]$$"
   ]
  },
  {
   "cell_type": "code",
   "execution_count": 30,
   "id": "e6eef9e6-84a4-47b4-8f78-5ed92562e078",
   "metadata": {},
   "outputs": [
    {
     "data": {
      "text/plain": [
       "array([[ 1,  2,  3, -1],\n",
       "       [ 4,  5,  6, -2],\n",
       "       [ 7,  8,  9, -3]], dtype=int32)"
      ]
     },
     "execution_count": 30,
     "metadata": {},
     "output_type": "execute_result"
    }
   ],
   "source": [
    "x"
   ]
  },
  {
   "cell_type": "code",
   "execution_count": 31,
   "id": "7948ad5e-fa4b-428f-a19f-01ae23e9291e",
   "metadata": {},
   "outputs": [
    {
     "data": {
      "text/plain": [
       "array([[ 3, -1],\n",
       "       [ 6, -2],\n",
       "       [ 9, -3]], dtype=int32)"
      ]
     },
     "execution_count": 31,
     "metadata": {},
     "output_type": "execute_result"
    }
   ],
   "source": [
    "y"
   ]
  },
  {
   "cell_type": "code",
   "execution_count": 32,
   "id": "de85b711-fe65-49fb-ba19-ca0aa22b390e",
   "metadata": {},
   "outputs": [
    {
     "data": {
      "text/plain": [
       "6"
      ]
     },
     "execution_count": 32,
     "metadata": {},
     "output_type": "execute_result"
    }
   ],
   "source": [
    "y[1][0]"
   ]
  },
  {
   "cell_type": "code",
   "execution_count": 34,
   "id": "7542e920-7612-46f4-abbd-31678a8c33f5",
   "metadata": {},
   "outputs": [
    {
     "data": {
      "text/plain": [
       "6"
      ]
     },
     "execution_count": 34,
     "metadata": {},
     "output_type": "execute_result"
    }
   ],
   "source": [
    "x[1][2]"
   ]
  },
  {
   "cell_type": "code",
   "execution_count": 38,
   "id": "6ef7c455-edcb-4f70-9a3a-34e092094cd9",
   "metadata": {},
   "outputs": [],
   "source": [
    "\n",
    "n_row = 1\n",
    "n_col = 2"
   ]
  },
  {
   "cell_type": "code",
   "execution_count": 39,
   "id": "99fdb376-0c82-4343-b546-1d616d234b83",
   "metadata": {},
   "outputs": [],
   "source": [
    "assert n_row == 1 and n_col == 2, f\"Answer is incorrect,{x[n_row][n_col]} is not equal to {x[1][2]}\""
   ]
  },
  {
   "cell_type": "markdown",
   "id": "aec1583c-ba11-4b31-ba0c-8946a3e53588",
   "metadata": {},
   "source": [
    "8. If we change the element from the Y array, will the X array change? Put your answer as `True` or `False` in the `answer` variable."
   ]
  },
  {
   "cell_type": "code",
   "execution_count": null,
   "id": "eb1dc8f3-1101-44de-88f1-5fa2cc7f3803",
   "metadata": {},
   "outputs": [],
   "source": []
  },
  {
   "cell_type": "code",
   "execution_count": 36,
   "id": "33d3201e-09c6-4cd4-95e2-fbfed7ec0a90",
   "metadata": {},
   "outputs": [],
   "source": [
    "answer = True"
   ]
  },
  {
   "cell_type": "code",
   "execution_count": null,
   "id": "28a72027-71f5-4db8-b2ea-d7d3ab5e9a15",
   "metadata": {},
   "outputs": [],
   "source": [
    "assert answer == True, \"Your answer is incorrect, if elements in y changes this also changes the corresponding element in x\""
   ]
  }
 ],
 "metadata": {
  "kernelspec": {
   "display_name": "Python 3 (ipykernel)",
   "language": "python",
   "name": "python3"
  },
  "language_info": {
   "codemirror_mode": {
    "name": "ipython",
    "version": 3
   },
   "file_extension": ".py",
   "mimetype": "text/x-python",
   "name": "python",
   "nbconvert_exporter": "python",
   "pygments_lexer": "ipython3",
   "version": "3.10.4"
  }
 },
 "nbformat": 4,
 "nbformat_minor": 5
}
